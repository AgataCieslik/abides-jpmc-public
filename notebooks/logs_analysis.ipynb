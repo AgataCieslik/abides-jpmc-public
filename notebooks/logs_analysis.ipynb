{
 "cells": [
  {
   "cell_type": "code",
   "execution_count": 1,
   "metadata": {
    "collapsed": true,
    "ExecuteTime": {
     "end_time": "2024-01-26T19:17:38.035518200Z",
     "start_time": "2024-01-26T19:17:37.376606300Z"
    }
   },
   "outputs": [],
   "source": [
    "import pandas as pd\n",
    "import bz2"
   ]
  },
  {
   "cell_type": "code",
   "execution_count": 5,
   "outputs": [
    {
     "ename": "PermissionError",
     "evalue": "[Errno 13] Permission denied: 'C:\\\\Users\\\\Agata\\\\abides-jpmc-public\\\\notebooks\\\\log\\\\1706296039'",
     "output_type": "error",
     "traceback": [
      "\u001B[1;31m---------------------------------------------------------------------------\u001B[0m",
      "\u001B[1;31mPermissionError\u001B[0m                           Traceback (most recent call last)",
      "Cell \u001B[1;32mIn[5], line 2\u001B[0m\n\u001B[0;32m      1\u001B[0m log_file_path \u001B[38;5;241m=\u001B[39m\u001B[38;5;124mr\u001B[39m\u001B[38;5;124m\"\u001B[39m\u001B[38;5;124mC:\u001B[39m\u001B[38;5;124m\\\u001B[39m\u001B[38;5;124mUsers\u001B[39m\u001B[38;5;124m\\\u001B[39m\u001B[38;5;124mAgata\u001B[39m\u001B[38;5;124m\\\u001B[39m\u001B[38;5;124mabides-jpmc-public\u001B[39m\u001B[38;5;124m\\\u001B[39m\u001B[38;5;124mnotebooks\u001B[39m\u001B[38;5;124m\\\u001B[39m\u001B[38;5;124mlog\u001B[39m\u001B[38;5;124m\\\u001B[39m\u001B[38;5;124m1706296039\u001B[39m\u001B[38;5;124m\"\u001B[39m\n\u001B[1;32m----> 2\u001B[0m logs_df \u001B[38;5;241m=\u001B[39m \u001B[43mpd\u001B[49m\u001B[38;5;241;43m.\u001B[39;49m\u001B[43mread_pickle\u001B[49m\u001B[43m(\u001B[49m\u001B[43mlog_file_path\u001B[49m\u001B[43m,\u001B[49m\u001B[43m \u001B[49m\u001B[43mcompression\u001B[49m\u001B[38;5;241;43m=\u001B[39;49m\u001B[38;5;124;43m\"\u001B[39;49m\u001B[38;5;124;43mbz2\u001B[39;49m\u001B[38;5;124;43m\"\u001B[39;49m\u001B[43m)\u001B[49m\n",
      "File \u001B[1;32m~\\PycharmProjects\\abides-jpmc-public\\lib\\site-packages\\pandas\\io\\pickle.py:179\u001B[0m, in \u001B[0;36mread_pickle\u001B[1;34m(filepath_or_buffer, compression, storage_options)\u001B[0m\n\u001B[0;32m    115\u001B[0m \u001B[38;5;250m\u001B[39m\u001B[38;5;124;03m\"\"\"\u001B[39;00m\n\u001B[0;32m    116\u001B[0m \u001B[38;5;124;03mLoad pickled pandas object (or any object) from file.\u001B[39;00m\n\u001B[0;32m    117\u001B[0m \n\u001B[1;32m   (...)\u001B[0m\n\u001B[0;32m    176\u001B[0m \u001B[38;5;124;03m4    4    9\u001B[39;00m\n\u001B[0;32m    177\u001B[0m \u001B[38;5;124;03m\"\"\"\u001B[39;00m\n\u001B[0;32m    178\u001B[0m excs_to_catch \u001B[38;5;241m=\u001B[39m (\u001B[38;5;167;01mAttributeError\u001B[39;00m, \u001B[38;5;167;01mImportError\u001B[39;00m, \u001B[38;5;167;01mModuleNotFoundError\u001B[39;00m, \u001B[38;5;167;01mTypeError\u001B[39;00m)\n\u001B[1;32m--> 179\u001B[0m \u001B[38;5;28;01mwith\u001B[39;00m \u001B[43mget_handle\u001B[49m\u001B[43m(\u001B[49m\n\u001B[0;32m    180\u001B[0m \u001B[43m    \u001B[49m\u001B[43mfilepath_or_buffer\u001B[49m\u001B[43m,\u001B[49m\n\u001B[0;32m    181\u001B[0m \u001B[43m    \u001B[49m\u001B[38;5;124;43m\"\u001B[39;49m\u001B[38;5;124;43mrb\u001B[39;49m\u001B[38;5;124;43m\"\u001B[39;49m\u001B[43m,\u001B[49m\n\u001B[0;32m    182\u001B[0m \u001B[43m    \u001B[49m\u001B[43mcompression\u001B[49m\u001B[38;5;241;43m=\u001B[39;49m\u001B[43mcompression\u001B[49m\u001B[43m,\u001B[49m\n\u001B[0;32m    183\u001B[0m \u001B[43m    \u001B[49m\u001B[43mis_text\u001B[49m\u001B[38;5;241;43m=\u001B[39;49m\u001B[38;5;28;43;01mFalse\u001B[39;49;00m\u001B[43m,\u001B[49m\n\u001B[0;32m    184\u001B[0m \u001B[43m    \u001B[49m\u001B[43mstorage_options\u001B[49m\u001B[38;5;241;43m=\u001B[39;49m\u001B[43mstorage_options\u001B[49m\u001B[43m,\u001B[49m\n\u001B[0;32m    185\u001B[0m \u001B[43m\u001B[49m\u001B[43m)\u001B[49m \u001B[38;5;28;01mas\u001B[39;00m handles:\n\u001B[0;32m    186\u001B[0m     \u001B[38;5;66;03m# 1) try standard library Pickle\u001B[39;00m\n\u001B[0;32m    187\u001B[0m     \u001B[38;5;66;03m# 2) try pickle_compat (older pandas version) to handle subclass changes\u001B[39;00m\n\u001B[0;32m    188\u001B[0m     \u001B[38;5;66;03m# 3) try pickle_compat with latin-1 encoding upon a UnicodeDecodeError\u001B[39;00m\n\u001B[0;32m    190\u001B[0m     \u001B[38;5;28;01mtry\u001B[39;00m:\n\u001B[0;32m    191\u001B[0m         \u001B[38;5;66;03m# TypeError for Cython complaints about object.__new__ vs Tick.__new__\u001B[39;00m\n\u001B[0;32m    192\u001B[0m         \u001B[38;5;28;01mtry\u001B[39;00m:\n",
      "File \u001B[1;32m~\\PycharmProjects\\abides-jpmc-public\\lib\\site-packages\\pandas\\io\\common.py:771\u001B[0m, in \u001B[0;36mget_handle\u001B[1;34m(path_or_buf, mode, encoding, compression, memory_map, is_text, errors, storage_options)\u001B[0m\n\u001B[0;32m    767\u001B[0m \u001B[38;5;66;03m# BZ Compression\u001B[39;00m\n\u001B[0;32m    768\u001B[0m \u001B[38;5;28;01melif\u001B[39;00m compression \u001B[38;5;241m==\u001B[39m \u001B[38;5;124m\"\u001B[39m\u001B[38;5;124mbz2\u001B[39m\u001B[38;5;124m\"\u001B[39m:\n\u001B[0;32m    769\u001B[0m     \u001B[38;5;66;03m# Overload of \"BZ2File\" to handle pickle protocol 5\u001B[39;00m\n\u001B[0;32m    770\u001B[0m     \u001B[38;5;66;03m# \"Union[str, BaseBuffer]\", \"str\", \"Dict[str, Any]\"\u001B[39;00m\n\u001B[1;32m--> 771\u001B[0m     handle \u001B[38;5;241m=\u001B[39m _BZ2File(  \u001B[38;5;66;03m# type: ignore[call-overload]\u001B[39;00m\n\u001B[0;32m    772\u001B[0m         handle,\n\u001B[0;32m    773\u001B[0m         mode\u001B[38;5;241m=\u001B[39mioargs\u001B[38;5;241m.\u001B[39mmode,\n\u001B[0;32m    774\u001B[0m         \u001B[38;5;241m*\u001B[39m\u001B[38;5;241m*\u001B[39mcompression_args,\n\u001B[0;32m    775\u001B[0m     )\n\u001B[0;32m    777\u001B[0m \u001B[38;5;66;03m# ZIP Compression\u001B[39;00m\n\u001B[0;32m    778\u001B[0m \u001B[38;5;28;01melif\u001B[39;00m compression \u001B[38;5;241m==\u001B[39m \u001B[38;5;124m\"\u001B[39m\u001B[38;5;124mzip\u001B[39m\u001B[38;5;124m\"\u001B[39m:\n\u001B[0;32m    779\u001B[0m     \u001B[38;5;66;03m# error: Argument 1 to \"_BytesZipFile\" has incompatible type\u001B[39;00m\n\u001B[0;32m    780\u001B[0m     \u001B[38;5;66;03m# \"Union[str, BaseBuffer]\"; expected \"Union[Union[str, PathLike[str]],\u001B[39;00m\n\u001B[0;32m    781\u001B[0m     \u001B[38;5;66;03m# ReadBuffer[bytes], WriteBuffer[bytes]]\"\u001B[39;00m\n",
      "File \u001B[1;32m~\\AppData\\Local\\Programs\\Python\\Python310\\lib\\bz2.py:81\u001B[0m, in \u001B[0;36mBZ2File.__init__\u001B[1;34m(self, filename, mode, compresslevel)\u001B[0m\n\u001B[0;32m     78\u001B[0m     \u001B[38;5;28;01mraise\u001B[39;00m \u001B[38;5;167;01mValueError\u001B[39;00m(\u001B[38;5;124m\"\u001B[39m\u001B[38;5;124mInvalid mode: \u001B[39m\u001B[38;5;132;01m%r\u001B[39;00m\u001B[38;5;124m\"\u001B[39m \u001B[38;5;241m%\u001B[39m (mode,))\n\u001B[0;32m     80\u001B[0m \u001B[38;5;28;01mif\u001B[39;00m \u001B[38;5;28misinstance\u001B[39m(filename, (\u001B[38;5;28mstr\u001B[39m, \u001B[38;5;28mbytes\u001B[39m, os\u001B[38;5;241m.\u001B[39mPathLike)):\n\u001B[1;32m---> 81\u001B[0m     \u001B[38;5;28mself\u001B[39m\u001B[38;5;241m.\u001B[39m_fp \u001B[38;5;241m=\u001B[39m \u001B[43m_builtin_open\u001B[49m\u001B[43m(\u001B[49m\u001B[43mfilename\u001B[49m\u001B[43m,\u001B[49m\u001B[43m \u001B[49m\u001B[43mmode\u001B[49m\u001B[43m)\u001B[49m\n\u001B[0;32m     82\u001B[0m     \u001B[38;5;28mself\u001B[39m\u001B[38;5;241m.\u001B[39m_closefp \u001B[38;5;241m=\u001B[39m \u001B[38;5;28;01mTrue\u001B[39;00m\n\u001B[0;32m     83\u001B[0m     \u001B[38;5;28mself\u001B[39m\u001B[38;5;241m.\u001B[39m_mode \u001B[38;5;241m=\u001B[39m mode_code\n",
      "\u001B[1;31mPermissionError\u001B[0m: [Errno 13] Permission denied: 'C:\\\\Users\\\\Agata\\\\abides-jpmc-public\\\\notebooks\\\\log\\\\1706296039'"
     ]
    }
   ],
   "source": [
    "log_file_path =r\"C:\\Users\\Agata\\abides-jpmc-public\\notebooks\\log\\1706296039\"\n",
    "logs_df = pd.read_pickle(log_file_path, compression=\"bz2\")"
   ],
   "metadata": {
    "collapsed": false,
    "ExecuteTime": {
     "end_time": "2024-01-26T19:18:27.584732800Z",
     "start_time": "2024-01-26T19:18:27.483732500Z"
    }
   }
  },
  {
   "cell_type": "code",
   "execution_count": 6,
   "outputs": [
    {
     "ename": "NameError",
     "evalue": "name 'logs_df' is not defined",
     "output_type": "error",
     "traceback": [
      "\u001B[1;31m---------------------------------------------------------------------------\u001B[0m",
      "\u001B[1;31mNameError\u001B[0m                                 Traceback (most recent call last)",
      "Cell \u001B[1;32mIn[6], line 1\u001B[0m\n\u001B[1;32m----> 1\u001B[0m \u001B[43mlogs_df\u001B[49m\n",
      "\u001B[1;31mNameError\u001B[0m: name 'logs_df' is not defined"
     ]
    }
   ],
   "source": [
    "logs_df"
   ],
   "metadata": {
    "collapsed": false,
    "ExecuteTime": {
     "end_time": "2024-01-26T19:18:28.629402300Z",
     "start_time": "2024-01-26T19:18:28.576405500Z"
    }
   }
  },
  {
   "cell_type": "code",
   "execution_count": 4,
   "outputs": [
    {
     "data": {
      "text/plain": "array(['NoiseAgent', 'ValueAgent', 'AdaptivePOVMarketMakerAgent',\n       'MomentumAgent'], dtype=object)"
     },
     "execution_count": 4,
     "metadata": {},
     "output_type": "execute_result"
    }
   ],
   "source": [
    "logs_df['AgentStrategy'].unique()"
   ],
   "metadata": {
    "collapsed": false,
    "ExecuteTime": {
     "end_time": "2024-01-26T18:59:58.163638400Z",
     "start_time": "2024-01-26T18:59:58.123645900Z"
    }
   }
  },
  {
   "cell_type": "code",
   "execution_count": 5,
   "outputs": [],
   "source": [
    "logs_pivot = logs_df.pivot_table(columns=['EventType'], values=['Event'], index=['AgentID','AgentStrategy'])"
   ],
   "metadata": {
    "collapsed": false,
    "ExecuteTime": {
     "end_time": "2024-01-26T18:59:58.340637300Z",
     "start_time": "2024-01-26T18:59:58.138656200Z"
    }
   }
  },
  {
   "cell_type": "code",
   "execution_count": 6,
   "outputs": [
    {
     "data": {
      "text/plain": "                            Event                                       \nEventType             ENDING_CASH FINAL_CASH_POSITION FINAL_VALUATION   \nAgentID AgentStrategy                                                   \n1       NoiseAgent      9987800.0          19998300.0        0.989832  \\\n2       NoiseAgent     10000000.0          10000000.0        0.000000   \n3       NoiseAgent      9989100.0          19999600.0        0.989960   \n4       NoiseAgent      9971800.0          19982300.0        0.988248   \n5       NoiseAgent      9995700.0          20006200.0        0.990614   \n...                           ...                 ...             ...   \n1112    MomentumAgent   7884448.0        -200934582.0             NaN   \n1113    MomentumAgent   8365709.0        -317576171.0             NaN   \n1114    MomentumAgent   6704384.0         263173394.0             NaN   \n1115    MomentumAgent   8819134.0        -551368446.0             NaN   \n1116    MomentumAgent   7688634.0         -57479721.0             NaN   \n\n                                     \nEventType             STARTING_CASH  \nAgentID AgentStrategy                \n1       NoiseAgent       10000000.0  \n2       NoiseAgent       10000000.0  \n3       NoiseAgent       10000000.0  \n4       NoiseAgent       10000000.0  \n5       NoiseAgent       10000000.0  \n...                             ...  \n1112    MomentumAgent    10000000.0  \n1113    MomentumAgent    10000000.0  \n1114    MomentumAgent    10000000.0  \n1115    MomentumAgent    10000000.0  \n1116    MomentumAgent    10000000.0  \n\n[1116 rows x 4 columns]",
      "text/html": "<div>\n<style scoped>\n    .dataframe tbody tr th:only-of-type {\n        vertical-align: middle;\n    }\n\n    .dataframe tbody tr th {\n        vertical-align: top;\n    }\n\n    .dataframe thead tr th {\n        text-align: left;\n    }\n\n    .dataframe thead tr:last-of-type th {\n        text-align: right;\n    }\n</style>\n<table border=\"1\" class=\"dataframe\">\n  <thead>\n    <tr>\n      <th></th>\n      <th></th>\n      <th colspan=\"4\" halign=\"left\">Event</th>\n    </tr>\n    <tr>\n      <th></th>\n      <th>EventType</th>\n      <th>ENDING_CASH</th>\n      <th>FINAL_CASH_POSITION</th>\n      <th>FINAL_VALUATION</th>\n      <th>STARTING_CASH</th>\n    </tr>\n    <tr>\n      <th>AgentID</th>\n      <th>AgentStrategy</th>\n      <th></th>\n      <th></th>\n      <th></th>\n      <th></th>\n    </tr>\n  </thead>\n  <tbody>\n    <tr>\n      <th>1</th>\n      <th>NoiseAgent</th>\n      <td>9987800.0</td>\n      <td>19998300.0</td>\n      <td>0.989832</td>\n      <td>10000000.0</td>\n    </tr>\n    <tr>\n      <th>2</th>\n      <th>NoiseAgent</th>\n      <td>10000000.0</td>\n      <td>10000000.0</td>\n      <td>0.000000</td>\n      <td>10000000.0</td>\n    </tr>\n    <tr>\n      <th>3</th>\n      <th>NoiseAgent</th>\n      <td>9989100.0</td>\n      <td>19999600.0</td>\n      <td>0.989960</td>\n      <td>10000000.0</td>\n    </tr>\n    <tr>\n      <th>4</th>\n      <th>NoiseAgent</th>\n      <td>9971800.0</td>\n      <td>19982300.0</td>\n      <td>0.988248</td>\n      <td>10000000.0</td>\n    </tr>\n    <tr>\n      <th>5</th>\n      <th>NoiseAgent</th>\n      <td>9995700.0</td>\n      <td>20006200.0</td>\n      <td>0.990614</td>\n      <td>10000000.0</td>\n    </tr>\n    <tr>\n      <th>...</th>\n      <th>...</th>\n      <td>...</td>\n      <td>...</td>\n      <td>...</td>\n      <td>...</td>\n    </tr>\n    <tr>\n      <th>1112</th>\n      <th>MomentumAgent</th>\n      <td>7884448.0</td>\n      <td>-200934582.0</td>\n      <td>NaN</td>\n      <td>10000000.0</td>\n    </tr>\n    <tr>\n      <th>1113</th>\n      <th>MomentumAgent</th>\n      <td>8365709.0</td>\n      <td>-317576171.0</td>\n      <td>NaN</td>\n      <td>10000000.0</td>\n    </tr>\n    <tr>\n      <th>1114</th>\n      <th>MomentumAgent</th>\n      <td>6704384.0</td>\n      <td>263173394.0</td>\n      <td>NaN</td>\n      <td>10000000.0</td>\n    </tr>\n    <tr>\n      <th>1115</th>\n      <th>MomentumAgent</th>\n      <td>8819134.0</td>\n      <td>-551368446.0</td>\n      <td>NaN</td>\n      <td>10000000.0</td>\n    </tr>\n    <tr>\n      <th>1116</th>\n      <th>MomentumAgent</th>\n      <td>7688634.0</td>\n      <td>-57479721.0</td>\n      <td>NaN</td>\n      <td>10000000.0</td>\n    </tr>\n  </tbody>\n</table>\n<p>1116 rows × 4 columns</p>\n</div>"
     },
     "execution_count": 6,
     "metadata": {},
     "output_type": "execute_result"
    }
   ],
   "source": [
    "logs_pivot"
   ],
   "metadata": {
    "collapsed": false,
    "ExecuteTime": {
     "end_time": "2024-01-26T18:59:58.370635800Z",
     "start_time": "2024-01-26T18:59:58.205641600Z"
    }
   }
  },
  {
   "cell_type": "code",
   "execution_count": 6,
   "outputs": [],
   "source": [],
   "metadata": {
    "collapsed": false,
    "ExecuteTime": {
     "end_time": "2024-01-26T18:59:58.370635800Z",
     "start_time": "2024-01-26T18:59:58.311644500Z"
    }
   }
  }
 ],
 "metadata": {
  "kernelspec": {
   "display_name": "Python 3",
   "language": "python",
   "name": "python3"
  },
  "language_info": {
   "codemirror_mode": {
    "name": "ipython",
    "version": 2
   },
   "file_extension": ".py",
   "mimetype": "text/x-python",
   "name": "python",
   "nbconvert_exporter": "python",
   "pygments_lexer": "ipython2",
   "version": "2.7.6"
  }
 },
 "nbformat": 4,
 "nbformat_minor": 0
}
