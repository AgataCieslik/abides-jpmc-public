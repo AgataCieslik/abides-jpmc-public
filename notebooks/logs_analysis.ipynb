{
 "cells": [
  {
   "cell_type": "code",
   "execution_count": 3,
   "metadata": {
    "collapsed": true,
    "ExecuteTime": {
     "end_time": "2023-05-04T16:13:06.805814700Z",
     "start_time": "2023-05-04T16:13:06.785816100Z"
    }
   },
   "outputs": [],
   "source": [
    "import pandas as pd\n",
    "import bz2"
   ]
  },
  {
   "cell_type": "code",
   "execution_count": 7,
   "outputs": [],
   "source": [
    "log_file_path =\"./log/1683210744/summary_log.bz2\"\n",
    "logs_df = pd.read_pickle(log_file_path, compression=\"bz2\")"
   ],
   "metadata": {
    "collapsed": false,
    "ExecuteTime": {
     "end_time": "2023-05-04T16:18:23.452972700Z",
     "start_time": "2023-05-04T16:18:23.429980300Z"
    }
   }
  },
  {
   "cell_type": "code",
   "execution_count": 8,
   "outputs": [
    {
     "data": {
      "text/plain": "      AgentID  AgentStrategy            EventType       Event\n0           1     NoiseAgent        STARTING_CASH  10000000.0\n1           2     NoiseAgent        STARTING_CASH  10000000.0\n2           3     NoiseAgent        STARTING_CASH  10000000.0\n3           4     NoiseAgent        STARTING_CASH  10000000.0\n4           5     NoiseAgent        STARTING_CASH  10000000.0\n...       ...            ...                  ...         ...\n4445     1114  MomentumAgent          ENDING_CASH  10000000.0\n4446     1115  MomentumAgent  FINAL_CASH_POSITION  10000000.0\n4447     1115  MomentumAgent          ENDING_CASH  10000000.0\n4448     1116  MomentumAgent  FINAL_CASH_POSITION  39998100.0\n4449     1116  MomentumAgent          ENDING_CASH   9999900.0\n\n[4450 rows x 4 columns]",
      "text/html": "<div>\n<style scoped>\n    .dataframe tbody tr th:only-of-type {\n        vertical-align: middle;\n    }\n\n    .dataframe tbody tr th {\n        vertical-align: top;\n    }\n\n    .dataframe thead th {\n        text-align: right;\n    }\n</style>\n<table border=\"1\" class=\"dataframe\">\n  <thead>\n    <tr style=\"text-align: right;\">\n      <th></th>\n      <th>AgentID</th>\n      <th>AgentStrategy</th>\n      <th>EventType</th>\n      <th>Event</th>\n    </tr>\n  </thead>\n  <tbody>\n    <tr>\n      <th>0</th>\n      <td>1</td>\n      <td>NoiseAgent</td>\n      <td>STARTING_CASH</td>\n      <td>10000000.0</td>\n    </tr>\n    <tr>\n      <th>1</th>\n      <td>2</td>\n      <td>NoiseAgent</td>\n      <td>STARTING_CASH</td>\n      <td>10000000.0</td>\n    </tr>\n    <tr>\n      <th>2</th>\n      <td>3</td>\n      <td>NoiseAgent</td>\n      <td>STARTING_CASH</td>\n      <td>10000000.0</td>\n    </tr>\n    <tr>\n      <th>3</th>\n      <td>4</td>\n      <td>NoiseAgent</td>\n      <td>STARTING_CASH</td>\n      <td>10000000.0</td>\n    </tr>\n    <tr>\n      <th>4</th>\n      <td>5</td>\n      <td>NoiseAgent</td>\n      <td>STARTING_CASH</td>\n      <td>10000000.0</td>\n    </tr>\n    <tr>\n      <th>...</th>\n      <td>...</td>\n      <td>...</td>\n      <td>...</td>\n      <td>...</td>\n    </tr>\n    <tr>\n      <th>4445</th>\n      <td>1114</td>\n      <td>MomentumAgent</td>\n      <td>ENDING_CASH</td>\n      <td>10000000.0</td>\n    </tr>\n    <tr>\n      <th>4446</th>\n      <td>1115</td>\n      <td>MomentumAgent</td>\n      <td>FINAL_CASH_POSITION</td>\n      <td>10000000.0</td>\n    </tr>\n    <tr>\n      <th>4447</th>\n      <td>1115</td>\n      <td>MomentumAgent</td>\n      <td>ENDING_CASH</td>\n      <td>10000000.0</td>\n    </tr>\n    <tr>\n      <th>4448</th>\n      <td>1116</td>\n      <td>MomentumAgent</td>\n      <td>FINAL_CASH_POSITION</td>\n      <td>39998100.0</td>\n    </tr>\n    <tr>\n      <th>4449</th>\n      <td>1116</td>\n      <td>MomentumAgent</td>\n      <td>ENDING_CASH</td>\n      <td>9999900.0</td>\n    </tr>\n  </tbody>\n</table>\n<p>4450 rows × 4 columns</p>\n</div>"
     },
     "execution_count": 8,
     "metadata": {},
     "output_type": "execute_result"
    }
   ],
   "source": [
    "logs_df"
   ],
   "metadata": {
    "collapsed": false,
    "ExecuteTime": {
     "end_time": "2023-05-04T16:18:30.694502700Z",
     "start_time": "2023-05-04T16:18:30.661504100Z"
    }
   }
  },
  {
   "cell_type": "code",
   "execution_count": 9,
   "outputs": [
    {
     "data": {
      "text/plain": "array(['STARTING_CASH', 'FINAL_CASH_POSITION', 'ENDING_CASH',\n       'FINAL_VALUATION'], dtype=object)"
     },
     "execution_count": 9,
     "metadata": {},
     "output_type": "execute_result"
    }
   ],
   "source": [
    "logs_df['EventType'].unique()"
   ],
   "metadata": {
    "collapsed": false,
    "ExecuteTime": {
     "end_time": "2023-05-04T16:48:32.103144600Z",
     "start_time": "2023-05-04T16:48:32.081150400Z"
    }
   }
  },
  {
   "cell_type": "code",
   "execution_count": null,
   "outputs": [],
   "source": [],
   "metadata": {
    "collapsed": false
   }
  }
 ],
 "metadata": {
  "kernelspec": {
   "display_name": "Python 3",
   "language": "python",
   "name": "python3"
  },
  "language_info": {
   "codemirror_mode": {
    "name": "ipython",
    "version": 2
   },
   "file_extension": ".py",
   "mimetype": "text/x-python",
   "name": "python",
   "nbconvert_exporter": "python",
   "pygments_lexer": "ipython2",
   "version": "2.7.6"
  }
 },
 "nbformat": 4,
 "nbformat_minor": 0
}
