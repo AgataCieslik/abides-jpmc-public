{
 "cells": [
  {
   "cell_type": "code",
   "execution_count": 1,
   "metadata": {
    "collapsed": true,
    "ExecuteTime": {
     "end_time": "2024-01-06T20:01:15.849500500Z",
     "start_time": "2024-01-06T20:01:15.173985600Z"
    }
   },
   "outputs": [],
   "source": [
    "import pandas as pd\n",
    "import bz2"
   ]
  },
  {
   "cell_type": "code",
   "execution_count": 2,
   "outputs": [],
   "source": [
    "log_file_path =r\".\\log\\1704566179\\summary_log.bz2\"\n",
    "logs_df = pd.read_pickle(log_file_path, compression=\"bz2\")"
   ],
   "metadata": {
    "collapsed": false,
    "ExecuteTime": {
     "end_time": "2024-01-06T20:01:15.864502700Z",
     "start_time": "2024-01-06T20:01:15.851499800Z"
    }
   }
  },
  {
   "cell_type": "code",
   "execution_count": 3,
   "outputs": [
    {
     "data": {
      "text/plain": "      AgentID  AgentStrategy            EventType         Event\n0           1     NoiseAgent        STARTING_CASH  1.000000e+07\n1           2     NoiseAgent        STARTING_CASH  1.000000e+07\n2           3     NoiseAgent        STARTING_CASH  1.000000e+07\n3           4     NoiseAgent        STARTING_CASH  1.000000e+07\n4           5     NoiseAgent        STARTING_CASH  1.000000e+07\n...       ...            ...                  ...           ...\n4445     1114  MomentumAgent          ENDING_CASH  1.100878e+07\n4446     1115  MomentumAgent  FINAL_CASH_POSITION -1.887928e+09\n4447     1115  MomentumAgent          ENDING_CASH  1.115369e+07\n4448     1116  MomentumAgent  FINAL_CASH_POSITION -1.307547e+09\n4449     1116  MomentumAgent          ENDING_CASH  1.041028e+07\n\n[4450 rows x 4 columns]",
      "text/html": "<div>\n<style scoped>\n    .dataframe tbody tr th:only-of-type {\n        vertical-align: middle;\n    }\n\n    .dataframe tbody tr th {\n        vertical-align: top;\n    }\n\n    .dataframe thead th {\n        text-align: right;\n    }\n</style>\n<table border=\"1\" class=\"dataframe\">\n  <thead>\n    <tr style=\"text-align: right;\">\n      <th></th>\n      <th>AgentID</th>\n      <th>AgentStrategy</th>\n      <th>EventType</th>\n      <th>Event</th>\n    </tr>\n  </thead>\n  <tbody>\n    <tr>\n      <th>0</th>\n      <td>1</td>\n      <td>NoiseAgent</td>\n      <td>STARTING_CASH</td>\n      <td>1.000000e+07</td>\n    </tr>\n    <tr>\n      <th>1</th>\n      <td>2</td>\n      <td>NoiseAgent</td>\n      <td>STARTING_CASH</td>\n      <td>1.000000e+07</td>\n    </tr>\n    <tr>\n      <th>2</th>\n      <td>3</td>\n      <td>NoiseAgent</td>\n      <td>STARTING_CASH</td>\n      <td>1.000000e+07</td>\n    </tr>\n    <tr>\n      <th>3</th>\n      <td>4</td>\n      <td>NoiseAgent</td>\n      <td>STARTING_CASH</td>\n      <td>1.000000e+07</td>\n    </tr>\n    <tr>\n      <th>4</th>\n      <td>5</td>\n      <td>NoiseAgent</td>\n      <td>STARTING_CASH</td>\n      <td>1.000000e+07</td>\n    </tr>\n    <tr>\n      <th>...</th>\n      <td>...</td>\n      <td>...</td>\n      <td>...</td>\n      <td>...</td>\n    </tr>\n    <tr>\n      <th>4445</th>\n      <td>1114</td>\n      <td>MomentumAgent</td>\n      <td>ENDING_CASH</td>\n      <td>1.100878e+07</td>\n    </tr>\n    <tr>\n      <th>4446</th>\n      <td>1115</td>\n      <td>MomentumAgent</td>\n      <td>FINAL_CASH_POSITION</td>\n      <td>-1.887928e+09</td>\n    </tr>\n    <tr>\n      <th>4447</th>\n      <td>1115</td>\n      <td>MomentumAgent</td>\n      <td>ENDING_CASH</td>\n      <td>1.115369e+07</td>\n    </tr>\n    <tr>\n      <th>4448</th>\n      <td>1116</td>\n      <td>MomentumAgent</td>\n      <td>FINAL_CASH_POSITION</td>\n      <td>-1.307547e+09</td>\n    </tr>\n    <tr>\n      <th>4449</th>\n      <td>1116</td>\n      <td>MomentumAgent</td>\n      <td>ENDING_CASH</td>\n      <td>1.041028e+07</td>\n    </tr>\n  </tbody>\n</table>\n<p>4450 rows × 4 columns</p>\n</div>"
     },
     "execution_count": 3,
     "metadata": {},
     "output_type": "execute_result"
    }
   ],
   "source": [
    "logs_df"
   ],
   "metadata": {
    "collapsed": false,
    "ExecuteTime": {
     "end_time": "2024-01-06T20:01:15.911497400Z",
     "start_time": "2024-01-06T20:01:15.866501800Z"
    }
   }
  },
  {
   "cell_type": "code",
   "execution_count": 4,
   "outputs": [
    {
     "data": {
      "text/plain": "array(['STARTING_CASH', 'FINAL_CASH_POSITION', 'ENDING_CASH',\n       'FINAL_VALUATION'], dtype=object)"
     },
     "execution_count": 4,
     "metadata": {},
     "output_type": "execute_result"
    }
   ],
   "source": [
    "logs_df['EventType'].unique()"
   ],
   "metadata": {
    "collapsed": false,
    "ExecuteTime": {
     "end_time": "2024-01-06T20:01:15.947499300Z",
     "start_time": "2024-01-06T20:01:15.914500600Z"
    }
   }
  },
  {
   "cell_type": "code",
   "execution_count": 5,
   "outputs": [],
   "source": [
    "logs_pivot = logs_df.pivot_table(columns=['EventType'], values=['Event'], index=['AgentID','AgentStrategy'])"
   ],
   "metadata": {
    "collapsed": false,
    "ExecuteTime": {
     "end_time": "2024-01-06T20:01:16.053496Z",
     "start_time": "2024-01-06T20:01:15.931496400Z"
    }
   }
  },
  {
   "cell_type": "code",
   "execution_count": 6,
   "outputs": [
    {
     "data": {
      "text/plain": "                            Event                                       \nEventType             ENDING_CASH FINAL_CASH_POSITION FINAL_VALUATION   \nAgentID AgentStrategy                                                   \n1       NoiseAgent      9997700.0        2.002400e+07        0.992376  \\\n2       NoiseAgent     10000000.0        1.000000e+07        0.000000   \n3       NoiseAgent     10026700.0        4.000000e+02       -0.989961   \n4       NoiseAgent     10030700.0        4.400000e+03       -0.989564   \n5       NoiseAgent     10004700.0        2.003100e+07        0.993069   \n...                           ...                 ...             ...   \n1112    MomentumAgent  10804051.0       -1.523120e+09             NaN   \n1113    MomentumAgent  11319664.0       -1.759626e+09             NaN   \n1114    MomentumAgent  11008785.0       -1.743794e+09             NaN   \n1115    MomentumAgent  11153686.0       -1.887928e+09             NaN   \n1116    MomentumAgent  10410275.0       -1.307547e+09             NaN   \n\n                                     \nEventType             STARTING_CASH  \nAgentID AgentStrategy                \n1       NoiseAgent       10000000.0  \n2       NoiseAgent       10000000.0  \n3       NoiseAgent       10000000.0  \n4       NoiseAgent       10000000.0  \n5       NoiseAgent       10000000.0  \n...                             ...  \n1112    MomentumAgent    10000000.0  \n1113    MomentumAgent    10000000.0  \n1114    MomentumAgent    10000000.0  \n1115    MomentumAgent    10000000.0  \n1116    MomentumAgent    10000000.0  \n\n[1116 rows x 4 columns]",
      "text/html": "<div>\n<style scoped>\n    .dataframe tbody tr th:only-of-type {\n        vertical-align: middle;\n    }\n\n    .dataframe tbody tr th {\n        vertical-align: top;\n    }\n\n    .dataframe thead tr th {\n        text-align: left;\n    }\n\n    .dataframe thead tr:last-of-type th {\n        text-align: right;\n    }\n</style>\n<table border=\"1\" class=\"dataframe\">\n  <thead>\n    <tr>\n      <th></th>\n      <th></th>\n      <th colspan=\"4\" halign=\"left\">Event</th>\n    </tr>\n    <tr>\n      <th></th>\n      <th>EventType</th>\n      <th>ENDING_CASH</th>\n      <th>FINAL_CASH_POSITION</th>\n      <th>FINAL_VALUATION</th>\n      <th>STARTING_CASH</th>\n    </tr>\n    <tr>\n      <th>AgentID</th>\n      <th>AgentStrategy</th>\n      <th></th>\n      <th></th>\n      <th></th>\n      <th></th>\n    </tr>\n  </thead>\n  <tbody>\n    <tr>\n      <th>1</th>\n      <th>NoiseAgent</th>\n      <td>9997700.0</td>\n      <td>2.002400e+07</td>\n      <td>0.992376</td>\n      <td>10000000.0</td>\n    </tr>\n    <tr>\n      <th>2</th>\n      <th>NoiseAgent</th>\n      <td>10000000.0</td>\n      <td>1.000000e+07</td>\n      <td>0.000000</td>\n      <td>10000000.0</td>\n    </tr>\n    <tr>\n      <th>3</th>\n      <th>NoiseAgent</th>\n      <td>10026700.0</td>\n      <td>4.000000e+02</td>\n      <td>-0.989961</td>\n      <td>10000000.0</td>\n    </tr>\n    <tr>\n      <th>4</th>\n      <th>NoiseAgent</th>\n      <td>10030700.0</td>\n      <td>4.400000e+03</td>\n      <td>-0.989564</td>\n      <td>10000000.0</td>\n    </tr>\n    <tr>\n      <th>5</th>\n      <th>NoiseAgent</th>\n      <td>10004700.0</td>\n      <td>2.003100e+07</td>\n      <td>0.993069</td>\n      <td>10000000.0</td>\n    </tr>\n    <tr>\n      <th>...</th>\n      <th>...</th>\n      <td>...</td>\n      <td>...</td>\n      <td>...</td>\n      <td>...</td>\n    </tr>\n    <tr>\n      <th>1112</th>\n      <th>MomentumAgent</th>\n      <td>10804051.0</td>\n      <td>-1.523120e+09</td>\n      <td>NaN</td>\n      <td>10000000.0</td>\n    </tr>\n    <tr>\n      <th>1113</th>\n      <th>MomentumAgent</th>\n      <td>11319664.0</td>\n      <td>-1.759626e+09</td>\n      <td>NaN</td>\n      <td>10000000.0</td>\n    </tr>\n    <tr>\n      <th>1114</th>\n      <th>MomentumAgent</th>\n      <td>11008785.0</td>\n      <td>-1.743794e+09</td>\n      <td>NaN</td>\n      <td>10000000.0</td>\n    </tr>\n    <tr>\n      <th>1115</th>\n      <th>MomentumAgent</th>\n      <td>11153686.0</td>\n      <td>-1.887928e+09</td>\n      <td>NaN</td>\n      <td>10000000.0</td>\n    </tr>\n    <tr>\n      <th>1116</th>\n      <th>MomentumAgent</th>\n      <td>10410275.0</td>\n      <td>-1.307547e+09</td>\n      <td>NaN</td>\n      <td>10000000.0</td>\n    </tr>\n  </tbody>\n</table>\n<p>1116 rows × 4 columns</p>\n</div>"
     },
     "execution_count": 6,
     "metadata": {},
     "output_type": "execute_result"
    }
   ],
   "source": [
    "logs_pivot"
   ],
   "metadata": {
    "collapsed": false,
    "ExecuteTime": {
     "end_time": "2024-01-06T20:01:16.076498700Z",
     "start_time": "2024-01-06T20:01:15.977498600Z"
    }
   }
  },
  {
   "cell_type": "code",
   "execution_count": null,
   "outputs": [],
   "source": [],
   "metadata": {
    "collapsed": false
   }
  }
 ],
 "metadata": {
  "kernelspec": {
   "display_name": "Python 3",
   "language": "python",
   "name": "python3"
  },
  "language_info": {
   "codemirror_mode": {
    "name": "ipython",
    "version": 2
   },
   "file_extension": ".py",
   "mimetype": "text/x-python",
   "name": "python",
   "nbconvert_exporter": "python",
   "pygments_lexer": "ipython2",
   "version": "2.7.6"
  }
 },
 "nbformat": 4,
 "nbformat_minor": 0
}
