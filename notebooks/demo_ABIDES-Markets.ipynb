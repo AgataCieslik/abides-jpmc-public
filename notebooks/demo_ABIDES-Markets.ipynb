{
 "cells": [
  {
   "cell_type": "markdown",
   "metadata": {},
   "source": [
    "This is a tutorial for basic use of abides_markets simulation.\n",
    "It uses the simulator directly without the OpenAI Gym interface"
   ]
  },
  {
   "cell_type": "code",
   "execution_count": 1,
   "metadata": {},
   "outputs": [],
   "source": [
    "#!pip install -r ../my_requirements.txt"
   ]
  },
  {
   "cell_type": "code",
   "execution_count": 2,
   "metadata": {},
   "outputs": [],
   "source": [
    "import numpy as np\n",
    "import pandas as pd\n",
    "from matplotlib import pyplot as plt\n",
    "\n",
    "from abides_core import abides\n",
    "from abides_core.utils import parse_logs_df, ns_date, str_to_ns, fmt_ts\n",
    "from abides_markets.configs import rmsc04"
   ]
  },
  {
   "cell_type": "markdown",
   "metadata": {},
   "source": [
    "## Build runnable configuration"
   ]
  },
  {
   "cell_type": "markdown",
   "metadata": {},
   "source": [
    "Here we are generating/building a config from the config file rmsc04. \n",
    "The config object is a dictionnary containing key elements like, start time, end time, agents to be used, latency and computation delay models."
   ]
  },
  {
   "cell_type": "code",
   "execution_count": 3,
   "metadata": {
    "scrolled": false
   },
   "outputs": [],
   "source": [
    "config = rmsc04.build_config()"
   ]
  },
  {
   "cell_type": "code",
   "execution_count": 4,
   "metadata": {},
   "outputs": [
    {
     "data": {
      "text/plain": [
       "dict_keys(['seed', 'start_time', 'stop_time', 'agents', 'agent_latency_model', 'default_computation_delay', 'custom_properties', 'random_state_kernel', 'stdout_log_level'])"
      ]
     },
     "execution_count": 4,
     "metadata": {},
     "output_type": "execute_result"
    }
   ],
   "source": [
    "config.keys()"
   ]
  },
  {
   "cell_type": "markdown",
   "metadata": {},
   "source": [
    "## Running simulation"
   ]
  },
  {
   "cell_type": "markdown",
   "metadata": {},
   "source": [
    "Once the config is ready it can be run using the abides runner function.\n",
    "It instanciates a simulation kernel, runs the configuration and returns an end_state that mostly contains pointers to the different agent objects.\n",
    "The agents are in their final state, their internal variables can be accessed to extract informations of interests like logs."
   ]
  },
  {
   "cell_type": "code",
   "execution_count": 5,
   "metadata": {
    "scrolled": false
   },
   "outputs": [
    {
     "name": "stderr",
     "output_type": "stream",
     "text": [
      "[6444] \u001b[1;30mINFO\u001b[0m \u001b[34mabides\u001b[0m Simulation Start Time: 2023-06-09 23:09:44.236534\n",
      "[6444] \u001b[1;30mINFO\u001b[0m \u001b[34mabides_core.kernel\u001b[0m --- Simulation time: 2021-02-05 00:00:00, messages processed: 0, wallclock elapsed: 0.00s ---\n",
      "[6444] \u001b[1;30mINFO\u001b[0m \u001b[34mabides_core.kernel\u001b[0m Event Queue elapsed: 0:00:03.076781, messages: 53,869, messages per second: 17508.2\n",
      "[6444] \u001b[1;30mINFO\u001b[0m \u001b[34mabides_core.kernel\u001b[0m Mean ending value by agent type:\n",
      "[6444] \u001b[1;30mINFO\u001b[0m \u001b[34mabides_core.kernel\u001b[0m NoiseAgent: -95\n",
      "[6444] \u001b[1;30mINFO\u001b[0m \u001b[34mabides_core.kernel\u001b[0m ValueAgent: 1620\n",
      "[6444] \u001b[1;30mINFO\u001b[0m \u001b[34mabides_core.kernel\u001b[0m AdaptivePOVMarketMakerAgent: -45116\n",
      "[6444] \u001b[1;30mINFO\u001b[0m \u001b[34mabides_core.kernel\u001b[0m MomentumAgent: 1673\n",
      "[6444] \u001b[1;30mINFO\u001b[0m \u001b[34mabides_core.kernel\u001b[0m Simulation ending!\n",
      "[6444] \u001b[1;30mINFO\u001b[0m \u001b[34mabides\u001b[0m Simulation End Time: 2023-06-09 23:09:50.301331\n",
      "[6444] \u001b[1;30mINFO\u001b[0m \u001b[34mabides\u001b[0m Time taken to run simulation: 0:00:06.064797\n"
     ]
    }
   ],
   "source": [
    "end_state = abides.run( config )"
   ]
  },
  {
   "cell_type": "markdown",
   "metadata": {},
   "source": [
    "## Retrieving results from end_state"
   ]
  },
  {
   "cell_type": "markdown",
   "metadata": {},
   "source": [
    "By convention in abides_markets configuration the first agent is the exchange agent. \n",
    "It contains an order_book. By default it logs its history."
   ]
  },
  {
   "cell_type": "code",
   "execution_count": 6,
   "metadata": {},
   "outputs": [],
   "source": [
    "order_book = end_state[\"agents\"][0].order_books[\"ABM\"]"
   ]
  },
  {
   "cell_type": "markdown",
   "metadata": {},
   "source": [
    "### Order book history L1"
   ]
  },
  {
   "cell_type": "markdown",
   "metadata": {},
   "source": [
    "L1 data snapshots for every tick can be extracted\n",
    "( best bid and ask price and quantity )"
   ]
  },
  {
   "cell_type": "code",
   "execution_count": 7,
   "metadata": {},
   "outputs": [],
   "source": [
    "L1 = order_book.get_L1_snapshots()"
   ]
  },
  {
   "cell_type": "markdown",
   "metadata": {},
   "source": [
    "Here we plot the time series of the best bid and best ask price thoughout the simulation"
   ]
  },
  {
   "cell_type": "code",
   "execution_count": 8,
   "metadata": {},
   "outputs": [
    {
     "data": {
      "image/png": "[encoded data removed]",
      "text/plain": [
       "<Figure size 432x288 with 1 Axes>"
      ]
     },
     "metadata": {
      "needs_background": "light"
     },
     "output_type": "display_data"
    }
   ],
   "source": [
    "best_bids = pd.DataFrame(L1[\"best_bids\"],columns=[\"time\",\"price\",\"qty\"])\n",
    "best_asks = pd.DataFrame(L1[\"best_asks\"],columns=[\"time\",\"price\",\"qty\"])\n",
    "\n",
    "## All times are in ns from 1970, remove the date component to put them in ns from midnight\n",
    "best_bids[\"time\"] = best_bids[\"time\"].apply( lambda x: x - ns_date(x) )\n",
    "best_asks[\"time\"] = best_asks[\"time\"].apply( lambda x: x - ns_date(x) )\n",
    "\n",
    "plt.plot(best_bids.time,best_bids.price)\n",
    "plt.plot(best_asks.time,best_asks.price)\n",
    "\n",
    "band = 100\n",
    "plt.ylim(100_000-band,100_000+band)\n",
    "\n",
    "time_mesh = np.arange(\n",
    "    str_to_ns(\"09:30:00\"),\n",
    "    str_to_ns(\"10:10:00\"),\n",
    "    1e9*60*10\n",
    ")\n",
    "_=plt.xticks(time_mesh, [ fmt_ts(time).split(\" \")[1] for time in time_mesh], rotation=60 )"
   ]
  },
  {
   "cell_type": "markdown",
   "metadata": {},
   "source": [
    "### Order book history L2"
   ]
  },
  {
   "cell_type": "markdown",
   "metadata": {},
   "source": [
    "L2 data snapshots for every tick can be extracted\n",
    "( bids and asks price and quantity for every orderbook level. Here max depth logged is a parameter of the simulation and max number of levels we want to retrieve from the orderbook after the simulation is a parameter too)"
   ]
  },
  {
   "cell_type": "code",
   "execution_count": 9,
   "metadata": {},
   "outputs": [],
   "source": [
    "L2 = order_book.get_L2_snapshots(nlevels=10)"
   ]
  },
  {
   "cell_type": "markdown",
   "metadata": {},
   "source": [
    "As an illustration we plot the time series of the fifth best bid price and fifth best ask price throughout the simulation"
   ]
  },
  {
   "cell_type": "code",
   "execution_count": 10,
   "metadata": {},
   "outputs": [
    {
     "data": {
      "image/png": "[encoded data removed]",
      "text/plain": [
       "<Figure size 432x288 with 1 Axes>"
      ]
     },
     "metadata": {
      "needs_background": "light"
     },
     "output_type": "display_data"
    }
   ],
   "source": [
    "## plotting fifth best bid and fifth best ask\n",
    "times = [ t - ns_date(t) for t in L2[\"times\"] ]\n",
    "plt.scatter( times, L2[\"bids\"][:,5,0], s=.5 )\n",
    "plt.scatter( times, L2[\"asks\"][:,5,0], s=.5 )\n",
    "\n",
    "band = 100\n",
    "plt.ylim(100_000-band,100_000+band)\n",
    "\n",
    "_=plt.xticks(time_mesh, [ fmt_ts(time).split(\" \")[1] for time in time_mesh], rotation=60 )"
   ]
  },
  {
   "cell_type": "markdown",
   "metadata": {},
   "source": [
    "### Looking at agents logs"
   ]
  },
  {
   "cell_type": "markdown",
   "metadata": {},
   "source": [
    "All agents can be inspected to retrieve desired information. \n",
    "The utility parse_logs_df for instance provides a quick way to retrieve and aggregate the log variables of each agent in a single dataframe"
   ]
  },
  {
   "cell_type": "code",
   "execution_count": 11,
   "metadata": {},
   "outputs": [],
   "source": [
    "logs_df = parse_logs_df( end_state )"
   ]
  },
  {
   "cell_type": "markdown",
   "metadata": {},
   "source": [
    "#### Histogram of order submission times for noise agents"
   ]
  },
  {
   "cell_type": "markdown",
   "metadata": {},
   "source": [
    "As an illustration we retrieve the submission times of all the orders sent by noise agent and display the histogram of all these times"
   ]
  },
  {
   "cell_type": "code",
   "execution_count": 12,
   "metadata": {},
   "outputs": [
    {
     "data": {
      "image/png": "[encoded data removed]",
      "text/plain": [
       "<Figure size 432x288 with 1 Axes>"
      ]
     },
     "metadata": {
      "needs_background": "light"
     },
     "output_type": "display_data"
    }
   ],
   "source": [
    "plt.hist( logs_df[ (logs_df.agent_type == \"NoiseAgent\") & (logs_df.EventType==\"ORDER_SUBMITTED\") ].EventTime.apply(lambda x: x - ns_date(x) )  )\n",
    "\n",
    "_=plt.xticks(time_mesh, [ fmt_ts(time).split(\" \")[1] for time in time_mesh], rotation=60 )\n",
    "\n",
    "\n",
    "\n"
   ]
  },
  {
   "cell_type": "markdown",
   "metadata": {},
   "source": [
    "We proceed the same way for value agents as well"
   ]
  },
  {
   "cell_type": "code",
   "execution_count": 13,
   "metadata": {},
   "outputs": [
    {
     "data": {
      "image/png": "[encoded data removed]",
      "text/plain": [
       "<Figure size 432x288 with 1 Axes>"
      ]
     },
     "metadata": {
      "needs_background": "light"
     },
     "output_type": "display_data"
    }
   ],
   "source": [
    "plt.hist( logs_df[ (logs_df.agent_type == \"ValueAgent\") & (logs_df.EventType==\"ORDER_SUBMITTED\") ].EventTime.apply(lambda x: x - ns_date(x) )  )\n",
    "\n",
    "_=plt.xticks(time_mesh, [ fmt_ts(time).split(\" \")[1] for time in time_mesh], rotation=60 )"
   ]
  }
 ],
 "metadata": {
  "kernelspec": {
   "display_name": "Python 3 (ipykernel)",
   "language": "python",
   "name": "python3"
  },
  "language_info": {
   "codemirror_mode": {
    "name": "ipython",
    "version": 3
   },
   "file_extension": ".py",
   "mimetype": "text/x-python",
   "name": "python",
   "nbconvert_exporter": "python",
   "pygments_lexer": "ipython3",
   "version": "3.10.9"
  }
 },
 "nbformat": 4,
 "nbformat_minor": 4
}
