{
 "cells": [
  {
   "cell_type": "code",
   "execution_count": 1,
   "id": "e5a8b28c",
   "metadata": {},
   "outputs": [],
   "source": [
    "from abides_markets.configs.utils import generate_BA_graph_sequence\n",
    "from abides_markets.configs import rmsc04\n",
    "from abides_core import abides\n",
    "from abides_markets.utils import generate_latency_model\n",
    "from abides_core.utils import get_wake_time, str_to_ns\n",
    "from abides_core.network import BANetwork, CentralizedNetwork\n",
    "from abides_markets.agents import InsiderValueAgent\n",
    "from abides_markets.agents.network_agents import FollowerValueAgent, FollowerNoiseAgent\n",
    "from itertools import count"
   ]
  },
  {
   "cell_type": "code",
   "execution_count": 2,
   "id": "0c3e6c0b",
   "metadata": {},
   "outputs": [],
   "source": [
    "rmsc04_based_config = rmsc04.build_config()\n",
    "base_config_agents_sum = len(rmsc04_based_config['agents'])\n",
    "id_generator = count(base_config_agents_sum)"
   ]
  },
  {
   "cell_type": "code",
   "execution_count": 3,
   "id": "c2f61726",
   "metadata": {},
   "outputs": [],
   "source": [
    "insider_0 = InsiderValueAgent(id=next(id_generator),lambda_a=5.7e-12,horizon=str_to_ns(\"1h\"))\n",
    "follower_0 = FollowerValueAgent(id = next(id_generator),lambda_a=5.7e-12)\n",
    "market_open = rmsc04_based_config['start_time'] + str_to_ns(\"11:30:00\")\n",
    "market_close = rmsc04_based_config['stop_time'] - str_to_ns(\"1s\")\n",
    "follower_1 = FollowerNoiseAgent(id = next(id_generator),wakeup_time = market_open)"
   ]
  },
  {
   "cell_type": "code",
   "execution_count": 4,
   "id": "6ef50ce4",
   "metadata": {},
   "outputs": [],
   "source": [
    "all_follower_value_agents = [FollowerValueAgent(id = next(id_generator),lambda_a=5.7e-12) for i in range(102)]\n",
    "all_follower_noise_agents =  [FollowerNoiseAgent(id = next(id_generator),wakeup_time = market_open) for i in range(1000)]\n",
    "agents = all_follower_value_agents\n",
    "agents.extend(all_follower_noise_agents)"
   ]
  },
  {
   "cell_type": "code",
   "execution_count": 5,
   "id": "53380f3b",
   "metadata": {},
   "outputs": [],
   "source": [
    "starting_graph = CentralizedNetwork.construct_from_agent_list(central_agent=insider_0, agent_list=[follower_0, follower_1])"
   ]
  },
  {
   "cell_type": "code",
   "execution_count": 6,
   "id": "4b33c964",
   "metadata": {},
   "outputs": [],
   "source": [
    "graph_generator = generate_BA_graph_sequence(starting_graph= starting_graph, m=2, new_agents=agents,\n",
    "                               graph_sizes=[5, 25, 50, 100, 500, 1000])"
   ]
  },
  {
   "cell_type": "code",
   "execution_count": 20,
   "id": "373f3fa8",
   "metadata": {},
   "outputs": [
    {
     "ename": "StopIteration",
     "evalue": "",
     "output_type": "error",
     "traceback": [
      "\u001b[1;31m---------------------------------------------------------------------------\u001b[0m",
      "\u001b[1;31mStopIteration\u001b[0m                             Traceback (most recent call last)",
      "\u001b[1;32mC:\\Users\\MAREK~1.KOZ\\AppData\\Local\\Temp/ipykernel_26368/748903353.py\u001b[0m in \u001b[0;36m<module>\u001b[1;34m\u001b[0m\n\u001b[1;32m----> 1\u001b[1;33m \u001b[0mnext\u001b[0m\u001b[1;33m(\u001b[0m\u001b[0mgraph_generator\u001b[0m\u001b[1;33m)\u001b[0m\u001b[1;33m\u001b[0m\u001b[1;33m\u001b[0m\u001b[0m\n\u001b[0m",
      "\u001b[1;31mStopIteration\u001b[0m: "
     ]
    }
   ],
   "source": [
    "next(graph_generator)"
   ]
  },
  {
   "cell_type": "code",
   "execution_count": 9,
   "id": "a3fa61c0",
   "metadata": {},
   "outputs": [],
   "source": [
    "graph_1 = next(graph_generator)"
   ]
  },
  {
   "cell_type": "code",
   "execution_count": 13,
   "id": "5e0feb29",
   "metadata": {},
   "outputs": [],
   "source": [
    "graph_0.agents[0].id = 'bleble'"
   ]
  },
  {
   "cell_type": "code",
   "execution_count": 14,
   "id": "a268afc3",
   "metadata": {},
   "outputs": [
    {
     "data": {
      "text/plain": [
       "1117"
      ]
     },
     "execution_count": 14,
     "metadata": {},
     "output_type": "execute_result"
    }
   ],
   "source": [
    "graph_1.agents[0].id"
   ]
  },
  {
   "cell_type": "code",
   "execution_count": 15,
   "id": "4e1b037d",
   "metadata": {},
   "outputs": [
    {
     "data": {
      "text/plain": [
       "'bleble'"
      ]
     },
     "execution_count": 15,
     "metadata": {},
     "output_type": "execute_result"
    }
   ],
   "source": [
    "graph_0.agents[0].id"
   ]
  },
  {
   "cell_type": "code",
   "execution_count": null,
   "id": "98a021e8",
   "metadata": {},
   "outputs": [],
   "source": []
  }
 ],
 "metadata": {
  "kernelspec": {
   "display_name": "Python 3 (ipykernel)",
   "language": "python",
   "name": "python3"
  },
  "language_info": {
   "codemirror_mode": {
    "name": "ipython",
    "version": 3
   },
   "file_extension": ".py",
   "mimetype": "text/x-python",
   "name": "python",
   "nbconvert_exporter": "python",
   "pygments_lexer": "ipython3",
   "version": "3.10.9"
  }
 },
 "nbformat": 4,
 "nbformat_minor": 5
}
