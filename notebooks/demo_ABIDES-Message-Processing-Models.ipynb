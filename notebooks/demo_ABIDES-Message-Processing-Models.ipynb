{
 "cells": [
  {
   "cell_type": "code",
   "execution_count": 1,
   "metadata": {
    "collapsed": true,
    "ExecuteTime": {
     "end_time": "2023-05-23T16:55:55.698071600Z",
     "start_time": "2023-05-23T16:55:55.012959Z"
    }
   },
   "outputs": [],
   "source": [
    "from abides_core import abides\n",
    "from abides_core.agent import Agent\n",
    "from abides_core.communicative_agent import CommunicativeAgent\n",
    "from abides_core.network import *\n",
    "from abides_core.message import Message"
   ]
  },
  {
   "cell_type": "code",
   "execution_count": 2,
   "outputs": [],
   "source": [
    "from itertools import count\n",
    "\n",
    "id_gen = count(0)"
   ],
   "metadata": {
    "collapsed": false,
    "ExecuteTime": {
     "end_time": "2023-05-23T16:55:56.833171800Z",
     "start_time": "2023-05-23T16:55:56.809170800Z"
    }
   }
  },
  {
   "cell_type": "markdown",
   "source": [
    "# Message Processing Models"
   ],
   "metadata": {
    "collapsed": false
   }
  },
  {
   "cell_type": "code",
   "execution_count": 3,
   "outputs": [],
   "source": [
    "from abides_markets.messages.trading_signal import SellSignal, BuySignal\n",
    "from abides_core.message_processing_model import MostRecentProcessingModel, VotingProcessingModel\n",
    "\n",
    "\n",
    "class ExampleAgent3(CommunicativeAgent):\n",
    "    def __init__(self, **kwargs):\n",
    "        super().__init__(**kwargs)\n",
    "        self.received_messages = []\n",
    "\n",
    "    def wakeup(self, current_time):\n",
    "        super().wakeup(current_time)\n",
    "        self.broadcast(BuySignal(symbol=\"test\"))\n",
    "        self.set_wakeup(current_time + 20)\n",
    "\n",
    "\n",
    "class ExampleAgent4(CommunicativeAgent):\n",
    "    def __init__(self, **kwargs):\n",
    "        super().__init__(**kwargs)\n",
    "        self.received_messages = []\n",
    "\n",
    "    def wakeup(self, current_time):\n",
    "        super().wakeup(current_time)\n",
    "        self.broadcast(SellSignal(symbol=\"test\"))\n",
    "        self.set_wakeup(current_time + 20)\n",
    "\n",
    "\n",
    "class ExampleAgent5(CommunicativeAgent):\n",
    "    def __init__(self, processing_model, **kwargs):\n",
    "        super().__init__(**kwargs)\n",
    "        self.received_messages = []\n",
    "        self.message_processing_model = processing_model\n",
    "        self.final_decision = None\n",
    "\n",
    "    def wakeup(self, current_time):\n",
    "        super().wakeup(current_time)\n",
    "\n",
    "    def receive_message(self, current_time, sender_id, message):\n",
    "        super().receive_message(current_time, sender_id, message)\n",
    "        self.message_processing_model.on_receive(current_time, message, sender_id)\n",
    "        self.received_messages.append((current_time, sender_id, message))\n",
    "\n",
    "    def kernel_terminating(self):\n",
    "        self.final_decision = type(self.message_processing_model.on_decision())\n",
    "        super().kernel_terminating()\n"
   ],
   "metadata": {
    "collapsed": false,
    "ExecuteTime": {
     "end_time": "2023-05-23T16:56:04.318425600Z",
     "start_time": "2023-05-23T16:56:04.268432Z"
    }
   }
  },
  {
   "cell_type": "code",
   "execution_count": 4,
   "outputs": [],
   "source": [
    "# test 0: dwa centra jedno most recent, jedno voting\n",
    "# test probabilistic: dwa centra jedno TrustWeighted, jedno TrustedSource, agenci wysyłający sygnał raz na x nanosekund"
   ],
   "metadata": {
    "collapsed": false,
    "ExecuteTime": {
     "end_time": "2023-05-22T17:58:58.932199300Z",
     "start_time": "2023-05-22T17:58:58.907205100Z"
    }
   }
  },
  {
   "cell_type": "code",
   "execution_count": 4,
   "outputs": [],
   "source": [
    "agents_graph_1 = [ExampleAgent4(id=next(id_gen)) for i in range(4)]\n",
    "agents_graph_1.extend([ExampleAgent3(id=next(id_gen)) for i in range(6)])\n",
    "\n",
    "agents_graph_2 = [ExampleAgent3(id=next(id_gen)) for i in range(5)]\n",
    "agents_graph_2.extend([ExampleAgent4(id=next(id_gen)) for i in range(5)])\n",
    "\n",
    "central_agent_1 = ExampleAgent5(processing_model=VotingProcessingModel(), id=next(id_gen))\n",
    "central_agent_2 = ExampleAgent5(processing_model=MostRecentProcessingModel(), id=next(id_gen))\n",
    "\n",
    "graph_1 = CentralizedNetwork.construct_from_agent_list(central_agent=central_agent_1, agent_list=agents_graph_1)\n",
    "graph_2 = CentralizedNetwork.construct_from_agent_list(central_agent=central_agent_2, agent_list=agents_graph_2)"
   ],
   "metadata": {
    "collapsed": false,
    "ExecuteTime": {
     "end_time": "2023-05-23T16:56:07.566799200Z",
     "start_time": "2023-05-23T16:56:07.534801800Z"
    }
   }
  },
  {
   "cell_type": "code",
   "execution_count": 5,
   "outputs": [
    {
     "data": {
      "text/plain": "20"
     },
     "execution_count": 5,
     "metadata": {},
     "output_type": "execute_result"
    }
   ],
   "source": [
    "central_agent_1.id"
   ],
   "metadata": {
    "collapsed": false,
    "ExecuteTime": {
     "end_time": "2023-05-23T16:56:11.336687500Z",
     "start_time": "2023-05-23T16:56:11.310672600Z"
    }
   }
  },
  {
   "cell_type": "code",
   "execution_count": 6,
   "outputs": [],
   "source": [
    "sim_agents = graph_1.get_agent_list()\n",
    "sim_agents.extend(graph_2.get_agent_list())\n",
    "sim_agents.sort(key=lambda agent: agent.id)"
   ],
   "metadata": {
    "collapsed": false,
    "ExecuteTime": {
     "end_time": "2023-05-23T16:56:13.196979700Z",
     "start_time": "2023-05-23T16:56:13.160630600Z"
    }
   }
  },
  {
   "cell_type": "code",
   "execution_count": 7,
   "outputs": [
    {
     "data": {
      "text/plain": "[0, 1, 2, 3, 4, 5, 6, 7, 8, 9, 10, 11, 12, 13, 14, 15, 16, 17, 18, 19, 20, 21]"
     },
     "execution_count": 7,
     "metadata": {},
     "output_type": "execute_result"
    }
   ],
   "source": [
    "[sim_agent.id for sim_agent in iter(sim_agents)]"
   ],
   "metadata": {
    "collapsed": false,
    "ExecuteTime": {
     "end_time": "2023-05-23T16:56:14.218691300Z",
     "start_time": "2023-05-23T16:56:14.046693900Z"
    }
   }
  },
  {
   "cell_type": "code",
   "execution_count": 8,
   "outputs": [
    {
     "name": "stderr",
     "output_type": "stream",
     "text": [
      "[5476] \u001B[1;30mINFO\u001B[0m \u001B[34mabides\u001B[0m Simulation Start Time: 2023-05-23 18:56:15.152095\n",
      "[5476] \u001B[1;30mINFO\u001B[0m \u001B[34mabides_core.kernel\u001B[0m --- Simulation time: 1970-01-01 09:30:00, messages processed: 0, wallclock elapsed: 0.00s ---\n",
      "[5476] \u001B[1;30mINFO\u001B[0m \u001B[34mabides_core.kernel\u001B[0m Event Queue elapsed: 0:00:00.007000, messages: 152, messages per second: 21714.3\n",
      "[5476] \u001B[1;30mINFO\u001B[0m \u001B[34mabides_core.kernel\u001B[0m Mean ending value by agent type:\n",
      "[5476] \u001B[1;30mINFO\u001B[0m \u001B[34mabides_core.kernel\u001B[0m Simulation ending!\n",
      "[5476] \u001B[1;30mINFO\u001B[0m \u001B[34mabides\u001B[0m Simulation End Time: 2023-05-23 18:56:15.197098\n",
      "[5476] \u001B[1;30mINFO\u001B[0m \u001B[34mabides\u001B[0m Time taken to run simulation: 0:00:00.045003\n"
     ]
    }
   ],
   "source": [
    "end_state = abides.run(config={\"agents\": sim_agents, \"stdout_log_level\": \"INFO\"})"
   ],
   "metadata": {
    "collapsed": false,
    "ExecuteTime": {
     "end_time": "2023-05-23T16:56:15.225098Z",
     "start_time": "2023-05-23T16:56:15.152095900Z"
    }
   }
  },
  {
   "cell_type": "code",
   "execution_count": 9,
   "outputs": [
    {
     "data": {
      "text/plain": "[<__main__.ExampleAgent4 at 0x21280874880>,\n <__main__.ExampleAgent4 at 0x21280876560>,\n <__main__.ExampleAgent4 at 0x21280874e80>,\n <__main__.ExampleAgent4 at 0x21280875090>,\n <__main__.ExampleAgent3 at 0x212808751e0>,\n <__main__.ExampleAgent3 at 0x21280876ec0>,\n <__main__.ExampleAgent3 at 0x21280875420>,\n <__main__.ExampleAgent3 at 0x21280875390>,\n <__main__.ExampleAgent3 at 0x21280875870>,\n <__main__.ExampleAgent3 at 0x21280877580>,\n <__main__.ExampleAgent3 at 0x21280875510>,\n <__main__.ExampleAgent3 at 0x21280877700>,\n <__main__.ExampleAgent3 at 0x212808754e0>,\n <__main__.ExampleAgent3 at 0x212808755a0>,\n <__main__.ExampleAgent3 at 0x212808770d0>,\n <__main__.ExampleAgent4 at 0x21280874fa0>,\n <__main__.ExampleAgent4 at 0x21280876350>,\n <__main__.ExampleAgent4 at 0x212808763b0>,\n <__main__.ExampleAgent4 at 0x21280875db0>,\n <__main__.ExampleAgent4 at 0x212808765f0>,\n <__main__.ExampleAgent5 at 0x21280875a20>,\n <__main__.ExampleAgent5 at 0x21280875a80>]"
     },
     "execution_count": 9,
     "metadata": {},
     "output_type": "execute_result"
    }
   ],
   "source": [
    "end_state['agents']"
   ],
   "metadata": {
    "collapsed": false,
    "ExecuteTime": {
     "end_time": "2023-05-23T16:56:17.614222500Z",
     "start_time": "2023-05-23T16:56:17.597219400Z"
    }
   }
  },
  {
   "cell_type": "code",
   "execution_count": 10,
   "outputs": [
    {
     "data": {
      "text/plain": "[(34200000000002, 0, SellSignal(message_id=23, symbol='test')),\n (34200000000003, 1, SellSignal(message_id=24, symbol='test')),\n (34200000000004, 2, SellSignal(message_id=25, symbol='test')),\n (34200000000005, 3, SellSignal(message_id=26, symbol='test')),\n (34200000000006, 4, BuySignal(message_id=27, symbol='test')),\n (34200000000007, 5, BuySignal(message_id=28, symbol='test')),\n (34200000000008, 6, BuySignal(message_id=29, symbol='test')),\n (34200000000009, 7, BuySignal(message_id=30, symbol='test')),\n (34200000000010, 8, BuySignal(message_id=31, symbol='test')),\n (34200000000011, 9, BuySignal(message_id=32, symbol='test'))]"
     },
     "execution_count": 10,
     "metadata": {},
     "output_type": "execute_result"
    }
   ],
   "source": [
    "# czemu nonetype? czy dostaje właściwą wiadomosc?\n",
    "end_state['agents'][20].received_messages"
   ],
   "metadata": {
    "collapsed": false,
    "ExecuteTime": {
     "end_time": "2023-05-23T16:56:19.092328400Z",
     "start_time": "2023-05-23T16:56:19.065282300Z"
    }
   }
  },
  {
   "cell_type": "code",
   "execution_count": 11,
   "outputs": [
    {
     "data": {
      "text/plain": "abides_markets.messages.trading_signal.SellSignal"
     },
     "execution_count": 11,
     "metadata": {},
     "output_type": "execute_result"
    }
   ],
   "source": [
    "end_state['agents'][21].final_decision"
   ],
   "metadata": {
    "collapsed": false,
    "ExecuteTime": {
     "end_time": "2023-05-23T16:56:20.805530Z",
     "start_time": "2023-05-23T16:56:20.767519200Z"
    }
   }
  },
  {
   "cell_type": "code",
   "execution_count": 12,
   "outputs": [
    {
     "data": {
      "text/plain": "abides_markets.messages.trading_signal.SellSignal"
     },
     "execution_count": 12,
     "metadata": {},
     "output_type": "execute_result"
    }
   ],
   "source": [
    "end_state['agents'][20].final_decision"
   ],
   "metadata": {
    "collapsed": false,
    "ExecuteTime": {
     "end_time": "2023-05-23T16:54:35.568228100Z",
     "start_time": "2023-05-23T16:54:35.529099600Z"
    }
   }
  },
  {
   "cell_type": "markdown",
   "source": [
    "# *Friend*, *FalseFriend*, *Insider*"
   ],
   "metadata": {
    "collapsed": false
   }
  },
  {
   "cell_type": "code",
   "execution_count": 31,
   "outputs": [
    {
     "data": {
      "text/plain": "[<__main__.ExampleAgent3 at 0x2a327389690>,\n <__main__.ExampleAgent3 at 0x2a32738bca0>,\n <__main__.ExampleAgent3 at 0x2a3273884f0>,\n <__main__.ExampleAgent5 at 0x2a3273888b0>,\n <__main__.ExampleAgent3 at 0x2a327389b10>,\n <__main__.ExampleAgent4 at 0x2a32738acb0>,\n <__main__.ExampleAgent4 at 0x2a327388b80>,\n <__main__.ExampleAgent4 at 0x2a3273893f0>,\n <__main__.ExampleAgent4 at 0x2a3273898d0>,\n <__main__.ExampleAgent4 at 0x2a32738a7a0>,\n <__main__.ExampleAgent4 at 0x2a327389330>,\n <__main__.ExampleAgent3 at 0x2a327389a20>,\n <__main__.ExampleAgent3 at 0x2a32738a2c0>,\n <__main__.ExampleAgent3 at 0x2a327389420>,\n <__main__.ExampleAgent3 at 0x2a327389ff0>,\n <__main__.ExampleAgent3 at 0x2a327389c00>,\n <__main__.ExampleAgent4 at 0x2a327389000>,\n <__main__.ExampleAgent4 at 0x2a32738bc10>,\n <__main__.ExampleAgent4 at 0x2a32738a140>,\n <__main__.ExampleAgent4 at 0x2a32738a440>,\n <__main__.ExampleAgent4 at 0x2a32738b3a0>,\n <__main__.ExampleAgent5 at 0x2a327389b40>]"
     },
     "execution_count": 31,
     "metadata": {},
     "output_type": "execute_result"
    }
   ],
   "source": [
    "from abides_markets.agents.network_agents import Friend, FalseFriend\n",
    "\n",
    "graph_1.get_agent_list()"
   ],
   "metadata": {
    "collapsed": false,
    "ExecuteTime": {
     "end_time": "2023-05-23T16:07:02.539043300Z",
     "start_time": "2023-05-23T16:07:02.523045200Z"
    }
   }
  },
  {
   "cell_type": "code",
   "execution_count": null,
   "outputs": [],
   "source": [],
   "metadata": {
    "collapsed": false
   }
  }
 ],
 "metadata": {
  "kernelspec": {
   "display_name": "Python 3",
   "language": "python",
   "name": "python3"
  },
  "language_info": {
   "codemirror_mode": {
    "name": "ipython",
    "version": 2
   },
   "file_extension": ".py",
   "mimetype": "text/x-python",
   "name": "python",
   "nbconvert_exporter": "python",
   "pygments_lexer": "ipython2",
   "version": "2.7.6"
  }
 },
 "nbformat": 4,
 "nbformat_minor": 0
}
