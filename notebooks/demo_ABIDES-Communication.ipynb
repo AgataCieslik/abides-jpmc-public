{
 "cells": [
  {
   "cell_type": "code",
   "execution_count": 1,
   "metadata": {
    "collapsed": true
   },
   "outputs": [],
   "source": [
    "from abides_core import abides\n",
    "from abides_core.agent import Agent\n",
    "from abides_core.communicative_agent import CommunicativeAgent\n",
    "from abides_core.network import *\n",
    "from abides_core.message import Message"
   ]
  },
  {
   "cell_type": "code",
   "execution_count": 2,
   "outputs": [],
   "source": [
    "from itertools import count\n",
    "\n",
    "id_gen = count(0)"
   ],
   "metadata": {
    "collapsed": false,
    "ExecuteTime": {
     "end_time": "2023-06-06T20:29:42.805014900Z",
     "start_time": "2023-06-06T20:29:42.791017100Z"
    }
   }
  },
  {
   "cell_type": "markdown",
   "source": [
    "# Sieci kontaktów [moduł *network*]"
   ],
   "metadata": {
    "collapsed": false
   }
  },
  {
   "cell_type": "code",
   "execution_count": 3,
   "outputs": [],
   "source": [
    "class ExampleAgent(CommunicativeAgent):\n",
    "    def __init__(self, **kwargs):\n",
    "        super().__init__(**kwargs)\n",
    "        self.received_messages = []\n",
    "\n",
    "    def wakeup(self, current_time):\n",
    "        super().wakeup(current_time)\n",
    "        self.broadcast(Message())\n",
    "\n",
    "    def receive_message(self, current_time, sender_id, message):\n",
    "        super().receive_message(current_time, sender_id, message)\n",
    "        self.received_messages.append((current_time, sender_id, message))\n"
   ],
   "metadata": {
    "collapsed": false,
    "ExecuteTime": {
     "end_time": "2023-06-06T20:29:42.855020100Z",
     "start_time": "2023-06-06T20:29:42.807018Z"
    }
   }
  },
  {
   "cell_type": "code",
   "execution_count": 4,
   "outputs": [],
   "source": [
    "import logging\n",
    "\n",
    "logger = logging.getLogger(\"abides\")\n",
    "\n",
    "\n",
    "class ExampleAgent2(CommunicativeAgent):\n",
    "    def __init__(self, **kwargs):\n",
    "        super().__init__(**kwargs)\n",
    "        self.received_messages = []\n",
    "\n",
    "    def wakeup(self, current_time):\n",
    "        super().wakeup(current_time)\n",
    "        self.broadcast(Message())\n",
    "\n",
    "    def receive_message(self, current_time, sender_id, message):\n",
    "        #logger.info(f\"{type(message)}, {sender_id}, {current_time}\")\n",
    "        super().receive_message(current_time, sender_id, message)\n",
    "        self.received_messages.append((current_time, sender_id, message))\n",
    "        self.broadcast(message)"
   ],
   "metadata": {
    "collapsed": false,
    "ExecuteTime": {
     "end_time": "2023-06-06T20:29:42.856021300Z",
     "start_time": "2023-06-06T20:29:42.838015700Z"
    }
   }
  },
  {
   "cell_type": "code",
   "execution_count": 5,
   "outputs": [],
   "source": [
    "#graph = CompleteGraph.construct(agent_types={ExampleAgent: 5}, id_generator=id_gen)"
   ],
   "metadata": {
    "collapsed": false,
    "ExecuteTime": {
     "end_time": "2023-06-06T20:29:42.870016400Z",
     "start_time": "2023-06-06T20:29:42.858022600Z"
    }
   }
  },
  {
   "cell_type": "code",
   "execution_count": 6,
   "outputs": [],
   "source": [
    "graph_0 = CentralizedNetwork.construct(central_agent_type=ExampleAgent2, agent_types={ExampleAgent: 100},\n",
    "                                       id_generator=id_gen)"
   ],
   "metadata": {
    "collapsed": false,
    "ExecuteTime": {
     "end_time": "2023-06-06T20:29:42.971016100Z",
     "start_time": "2023-06-06T20:29:42.870016400Z"
    }
   }
  },
  {
   "cell_type": "code",
   "execution_count": 8,
   "outputs": [],
   "source": [
    "from abides_markets.configs.utils import generate_BA_graph_sequence"
   ],
   "metadata": {
    "collapsed": false,
    "ExecuteTime": {
     "end_time": "2023-06-06T20:29:48.265254700Z",
     "start_time": "2023-06-06T20:29:48.222259600Z"
    }
   }
  },
  {
   "cell_type": "code",
   "execution_count": 9,
   "outputs": [],
   "source": [
    "seq_gen = generate_BA_graph_sequence(graph_0, 4, [ExampleAgent(id=next(id_gen)) for i in range(1000)], [105,115,125,200,500,1000])"
   ],
   "metadata": {
    "collapsed": false,
    "ExecuteTime": {
     "end_time": "2023-06-06T20:29:49.072722100Z",
     "start_time": "2023-06-06T20:29:48.809723700Z"
    }
   }
  },
  {
   "cell_type": "code",
   "execution_count": 10,
   "outputs": [],
   "source": [
    "g_1 = next(seq_gen)"
   ],
   "metadata": {
    "collapsed": false,
    "ExecuteTime": {
     "end_time": "2023-06-06T20:29:49.535719600Z",
     "start_time": "2023-06-06T20:29:49.490717900Z"
    }
   }
  },
  {
   "cell_type": "code",
   "execution_count": 15,
   "outputs": [
    {
     "data": {
      "text/plain": "[9, 0, 82, 13]"
     },
     "execution_count": 15,
     "metadata": {},
     "output_type": "execute_result"
    }
   ],
   "source": [
    "g_1.agents[104].contacts"
   ],
   "metadata": {
    "collapsed": false,
    "ExecuteTime": {
     "end_time": "2023-06-06T20:30:15.484370800Z",
     "start_time": "2023-06-06T20:30:15.421369500Z"
    }
   }
  },
  {
   "cell_type": "code",
   "execution_count": 8,
   "outputs": [],
   "source": [
    "graph = BANetwork.construct(starting_state=graph_0, agent_types={ExampleAgent: 1000}, m=10,\n",
    "                                   id_generator=id_gen)"
   ],
   "metadata": {
    "collapsed": false,
    "ExecuteTime": {
     "end_time": "2023-06-05T17:26:25.895919800Z",
     "start_time": "2023-06-05T17:25:41.002904200Z"
    }
   }
  },
  {
   "cell_type": "code",
   "execution_count": 6,
   "outputs": [],
   "source": [
    "graph= ERNetwork.construct(agent_types={ExampleAgent: 1000}, p=0.99,\n",
    "                            id_generator=id_gen)"
   ],
   "metadata": {
    "collapsed": false,
    "ExecuteTime": {
     "end_time": "2023-06-05T17:23:21.756995300Z",
     "start_time": "2023-06-05T17:22:10.985302800Z"
    }
   }
  },
  {
   "cell_type": "code",
   "execution_count": 9,
   "outputs": [
    {
     "data": {
      "text/plain": "[<__main__.ExampleAgent2 at 0x1ed124997e0>,\n <__main__.ExampleAgent at 0x1ed124bebc0>,\n <__main__.ExampleAgent at 0x1ed1246bbe0>,\n <__main__.ExampleAgent at 0x1ed1246b910>,\n <__main__.ExampleAgent at 0x1ed12833940>,\n <__main__.ExampleAgent at 0x1ed12832fb0>,\n <__main__.ExampleAgent at 0x1ed127ace20>,\n <__main__.ExampleAgent at 0x1ed12808400>,\n <__main__.ExampleAgent at 0x1ed12808160>,\n <__main__.ExampleAgent at 0x1ed1280bd60>,\n <__main__.ExampleAgent at 0x1ed1280b880>,\n <__main__.ExampleAgent at 0x1ed1280b6a0>,\n <__main__.ExampleAgent at 0x1ed1280b400>,\n <__main__.ExampleAgent at 0x1ed1280bbb0>,\n <__main__.ExampleAgent at 0x1ed1285dc00>,\n <__main__.ExampleAgent at 0x1ed1285ef50>,\n <__main__.ExampleAgent at 0x1ed1285d960>,\n <__main__.ExampleAgent at 0x1ed1285d810>,\n <__main__.ExampleAgent at 0x1ed1285f8b0>,\n <__main__.ExampleAgent at 0x1ed1285cc10>,\n <__main__.ExampleAgent at 0x1ed1285ded0>,\n <__main__.ExampleAgent at 0x1ed1285fb20>,\n <__main__.ExampleAgent at 0x1ed1285c550>,\n <__main__.ExampleAgent at 0x1ed1285fee0>,\n <__main__.ExampleAgent at 0x1ed128741c0>,\n <__main__.ExampleAgent at 0x1ed128751b0>,\n <__main__.ExampleAgent at 0x1ed12875e70>,\n <__main__.ExampleAgent at 0x1ed12877ac0>,\n <__main__.ExampleAgent at 0x1ed12874370>,\n <__main__.ExampleAgent at 0x1ed12876230>,\n <__main__.ExampleAgent at 0x1ed12875840>,\n <__main__.ExampleAgent at 0x1ed12874d00>,\n <__main__.ExampleAgent at 0x1ed12874e80>,\n <__main__.ExampleAgent at 0x1ed12877970>,\n <__main__.ExampleAgent at 0x1ed12877580>,\n <__main__.ExampleAgent at 0x1ed128a4b50>,\n <__main__.ExampleAgent at 0x1ed128a5c60>,\n <__main__.ExampleAgent at 0x1ed128a4ca0>,\n <__main__.ExampleAgent at 0x1ed128a5db0>,\n <__main__.ExampleAgent at 0x1ed128a7250>,\n <__main__.ExampleAgent at 0x1ed128a7370>,\n <__main__.ExampleAgent at 0x1ed1288b5e0>,\n <__main__.ExampleAgent at 0x1ed12889480>,\n <__main__.ExampleAgent at 0x1ed1288a440>,\n <__main__.ExampleAgent at 0x1ed12888070>,\n <__main__.ExampleAgent at 0x1ed128e81f0>,\n <__main__.ExampleAgent at 0x1ed128881f0>,\n <__main__.ExampleAgent at 0x1ed124a4190>,\n <__main__.ExampleAgent at 0x1ed124a67d0>,\n <__main__.ExampleAgent at 0x1ed124a5f60>,\n <__main__.ExampleAgent at 0x1ed124a6080>,\n <__main__.ExampleAgent at 0x1ed124a4f10>,\n <__main__.ExampleAgent at 0x1ed124a5c30>,\n <__main__.ExampleAgent at 0x1ed124a7970>,\n <__main__.ExampleAgent at 0x1ed1242f610>,\n <__main__.ExampleAgent at 0x1ed12832a40>,\n <__main__.ExampleAgent at 0x1ed128328f0>,\n <__main__.ExampleAgent at 0x1ed12830760>,\n <__main__.ExampleAgent at 0x1ed128d55a0>,\n <__main__.ExampleAgent at 0x1ed128325c0>,\n <__main__.ExampleAgent at 0x1ed128d4f10>,\n <__main__.ExampleAgent at 0x1ed124a5ab0>,\n <__main__.ExampleAgent at 0x1ed124a4fa0>,\n <__main__.ExampleAgent at 0x1ed124a69b0>,\n <__main__.ExampleAgent at 0x1ed124a7e50>,\n <__main__.ExampleAgent at 0x1ed124a5c60>,\n <__main__.ExampleAgent at 0x1ed124a4be0>,\n <__main__.ExampleAgent at 0x1ed124a60b0>,\n <__main__.ExampleAgent at 0x1ed124a5f30>,\n <__main__.ExampleAgent at 0x1ed124a6050>,\n <__main__.ExampleAgent at 0x1ed124a5ff0>,\n <__main__.ExampleAgent at 0x1ed124a65f0>,\n <__main__.ExampleAgent at 0x1ed124a5ed0>,\n <__main__.ExampleAgent at 0x1ed124a66b0>,\n <__main__.ExampleAgent at 0x1ed124a7be0>,\n <__main__.ExampleAgent at 0x1ed124a6a10>,\n <__main__.ExampleAgent at 0x1ed124a56f0>,\n <__main__.ExampleAgent at 0x1ed124a74c0>,\n <__main__.ExampleAgent at 0x1ed124a5ba0>,\n <__main__.ExampleAgent at 0x1ed124a4b80>,\n <__main__.ExampleAgent at 0x1ed124a4130>,\n <__main__.ExampleAgent at 0x1ed124a7b20>,\n <__main__.ExampleAgent at 0x1ed124a5600>,\n <__main__.ExampleAgent at 0x1ed124a4f40>,\n <__main__.ExampleAgent at 0x1ed124a7c70>,\n <__main__.ExampleAgent at 0x1ed124a7fa0>,\n <__main__.ExampleAgent at 0x1ed124a5930>,\n <__main__.ExampleAgent at 0x1ed124a76a0>,\n <__main__.ExampleAgent at 0x1ed124a5b40>,\n <__main__.ExampleAgent at 0x1ed124a6710>,\n <__main__.ExampleAgent at 0x1ed124a7850>,\n <__main__.ExampleAgent at 0x1ed1284a260>,\n <__main__.ExampleAgent at 0x1ed1284bc10>,\n <__main__.ExampleAgent at 0x1ed1284b160>,\n <__main__.ExampleAgent at 0x1ed1284a9e0>,\n <__main__.ExampleAgent at 0x1ed12849510>,\n <__main__.ExampleAgent at 0x1ed12849c00>,\n <__main__.ExampleAgent at 0x1ed1284beb0>,\n <__main__.ExampleAgent at 0x1ed1284b880>,\n <__main__.ExampleAgent at 0x1ed124f1bd0>,\n <__main__.ExampleAgent at 0x1ed124f30d0>,\n <__main__.ExampleAgent at 0x1ed1249ac50>,\n <__main__.ExampleAgent at 0x1ed124f30a0>,\n <__main__.ExampleAgent at 0x1ed1249e9b0>,\n <__main__.ExampleAgent at 0x1ed1288a650>,\n <__main__.ExampleAgent at 0x1ed12499d50>,\n <__main__.ExampleAgent at 0x1ed1288aaa0>,\n <__main__.ExampleAgent at 0x1ed1281d690>,\n <__main__.ExampleAgent at 0x1ed1281e5c0>,\n <__main__.ExampleAgent at 0x1ed1281e9e0>,\n <__main__.ExampleAgent at 0x1ed1281f2b0>,\n <__main__.ExampleAgent at 0x1ed1281dea0>,\n <__main__.ExampleAgent at 0x1ed1281db10>,\n <__main__.ExampleAgent at 0x1ed12795180>,\n <__main__.ExampleAgent at 0x1ed1281cf10>,\n <__main__.ExampleAgent at 0x1ed12832dd0>,\n <__main__.ExampleAgent at 0x1ed127c2650>,\n <__main__.ExampleAgent at 0x1ed12833130>,\n <__main__.ExampleAgent at 0x1ed124be560>,\n <__main__.ExampleAgent at 0x1ed124bf850>,\n <__main__.ExampleAgent at 0x1ed125541c0>,\n <__main__.ExampleAgent at 0x1ed12557070>,\n <__main__.ExampleAgent at 0x1ed12554220>,\n <__main__.ExampleAgent at 0x1ed125571f0>,\n <__main__.ExampleAgent at 0x1ed125571c0>,\n <__main__.ExampleAgent at 0x1ed12557190>,\n <__main__.ExampleAgent at 0x1ed12554610>,\n <__main__.ExampleAgent at 0x1ed12554550>,\n <__main__.ExampleAgent at 0x1ed125544f0>,\n <__main__.ExampleAgent at 0x1ed12554490>,\n <__main__.ExampleAgent at 0x1ed125541f0>,\n <__main__.ExampleAgent at 0x1ed12554430>,\n <__main__.ExampleAgent at 0x1ed12557760>,\n <__main__.ExampleAgent at 0x1ed125575e0>,\n <__main__.ExampleAgent at 0x1ed12557fa0>,\n <__main__.ExampleAgent at 0x1ed12555f60>,\n <__main__.ExampleAgent at 0x1ed12555f00>,\n <__main__.ExampleAgent at 0x1ed12555ea0>,\n <__main__.ExampleAgent at 0x1ed12555db0>,\n <__main__.ExampleAgent at 0x1ed12555d50>,\n <__main__.ExampleAgent at 0x1ed12555cf0>,\n <__main__.ExampleAgent at 0x1ed12555c90>,\n <__main__.ExampleAgent at 0x1ed12555c30>,\n <__main__.ExampleAgent at 0x1ed12555bd0>,\n <__main__.ExampleAgent at 0x1ed12555b70>,\n <__main__.ExampleAgent at 0x1ed12555b10>,\n <__main__.ExampleAgent at 0x1ed12555ab0>,\n <__main__.ExampleAgent at 0x1ed12555a50>,\n <__main__.ExampleAgent at 0x1ed125559f0>,\n <__main__.ExampleAgent at 0x1ed12555990>,\n <__main__.ExampleAgent at 0x1ed12555930>,\n <__main__.ExampleAgent at 0x1ed125558d0>,\n <__main__.ExampleAgent at 0x1ed125557e0>,\n <__main__.ExampleAgent at 0x1ed12555870>,\n <__main__.ExampleAgent at 0x1ed125557b0>,\n <__main__.ExampleAgent at 0x1ed12555e10>,\n <__main__.ExampleAgent at 0x1ed12555750>,\n <__main__.ExampleAgent at 0x1ed12554460>,\n <__main__.ExampleAgent at 0x1ed12557100>,\n <__main__.ExampleAgent at 0x1ed12554400>,\n <__main__.ExampleAgent at 0x1ed12555e40>,\n <__main__.ExampleAgent at 0x1ed125543a0>,\n <__main__.ExampleAgent at 0x1ed125542b0>,\n <__main__.ExampleAgent at 0x1ed12554130>,\n <__main__.ExampleAgent at 0x1ed125545e0>,\n <__main__.ExampleAgent at 0x1ed124b71f0>,\n <__main__.ExampleAgent at 0x1ed124b7ee0>,\n <__main__.ExampleAgent at 0x1ed124b55d0>,\n <__main__.ExampleAgent at 0x1ed124b4a60>,\n <__main__.ExampleAgent at 0x1ed124b4a00>,\n <__main__.ExampleAgent at 0x1ed124b49a0>,\n <__main__.ExampleAgent at 0x1ed124b4940>,\n <__main__.ExampleAgent at 0x1ed124b48b0>,\n <__main__.ExampleAgent at 0x1ed124b4850>,\n <__main__.ExampleAgent at 0x1ed124b47f0>,\n <__main__.ExampleAgent at 0x1ed124b4790>,\n <__main__.ExampleAgent at 0x1ed124b4730>,\n <__main__.ExampleAgent at 0x1ed124b45e0>,\n <__main__.ExampleAgent at 0x1ed124b4610>,\n <__main__.ExampleAgent at 0x1ed124b45b0>,\n <__main__.ExampleAgent at 0x1ed124b4550>,\n <__main__.ExampleAgent at 0x1ed124b44f0>,\n <__main__.ExampleAgent at 0x1ed124b4490>,\n <__main__.ExampleAgent at 0x1ed124b4430>,\n <__main__.ExampleAgent at 0x1ed124b4340>,\n <__main__.ExampleAgent at 0x1ed124b46d0>,\n <__main__.ExampleAgent at 0x1ed124b4370>,\n <__main__.ExampleAgent at 0x1ed124b4310>,\n <__main__.ExampleAgent at 0x1ed124b42b0>,\n <__main__.ExampleAgent at 0x1ed124b4250>,\n <__main__.ExampleAgent at 0x1ed124b41f0>,\n <__main__.ExampleAgent at 0x1ed124b4190>,\n <__main__.ExampleAgent at 0x1ed124b4130>,\n <__main__.ExampleAgent at 0x1ed124b40d0>,\n <__main__.ExampleAgent at 0x1ed124b6b90>,\n <__main__.ExampleAgent at 0x1ed124b4070>,\n <__main__.ExampleAgent at 0x1ed124b6bc0>,\n <__main__.ExampleAgent at 0x1ed124b6c20>,\n <__main__.ExampleAgent at 0x1ed124b6c80>,\n <__main__.ExampleAgent at 0x1ed124b6ce0>,\n <__main__.ExampleAgent at 0x1ed124b6d40>,\n <__main__.ExampleAgent at 0x1ed124b6da0>,\n <__main__.ExampleAgent at 0x1ed124b6e00>,\n <__main__.ExampleAgent at 0x1ed124b6e60>,\n <__main__.ExampleAgent at 0x1ed124b6ec0>,\n <__main__.ExampleAgent at 0x1ed124b6f20>,\n <__main__.ExampleAgent at 0x1ed124b6f80>,\n <__main__.ExampleAgent at 0x1ed124b6fe0>,\n <__main__.ExampleAgent at 0x1ed124b7040>,\n <__main__.ExampleAgent at 0x1ed124b70a0>,\n <__main__.ExampleAgent at 0x1ed124b7100>,\n <__main__.ExampleAgent at 0x1ed124b7160>,\n <__main__.ExampleAgent at 0x1ed124b71c0>,\n <__main__.ExampleAgent at 0x1ed124b7250>,\n <__main__.ExampleAgent at 0x1ed124b72b0>,\n <__main__.ExampleAgent at 0x1ed124b7310>,\n <__main__.ExampleAgent at 0x1ed124b7370>,\n <__main__.ExampleAgent at 0x1ed124b7e80>,\n <__main__.ExampleAgent at 0x1ed124b7e20>,\n <__main__.ExampleAgent at 0x1ed124b73d0>,\n <__main__.ExampleAgent at 0x1ed124b7430>,\n <__main__.ExampleAgent at 0x1ed124b7490>,\n <__main__.ExampleAgent at 0x1ed124b74f0>,\n <__main__.ExampleAgent at 0x1ed124b7550>,\n <__main__.ExampleAgent at 0x1ed124b75b0>,\n <__main__.ExampleAgent at 0x1ed124b7610>,\n <__main__.ExampleAgent at 0x1ed124b7670>,\n <__main__.ExampleAgent at 0x1ed124b76d0>,\n <__main__.ExampleAgent at 0x1ed124b7730>,\n <__main__.ExampleAgent at 0x1ed124e57b0>,\n <__main__.ExampleAgent at 0x1ed124e56c0>,\n <__main__.ExampleAgent at 0x1ed124f3700>,\n <__main__.ExampleAgent at 0x1ed124f0910>,\n <__main__.ExampleAgent at 0x1ed124b7790>,\n <__main__.ExampleAgent at 0x1ed124b77f0>,\n <__main__.ExampleAgent at 0x1ed124b7880>,\n <__main__.ExampleAgent at 0x1ed124b78b0>,\n <__main__.ExampleAgent at 0x1ed124b7910>,\n <__main__.ExampleAgent at 0x1ed124b7970>,\n <__main__.ExampleAgent at 0x1ed124b79d0>,\n <__main__.ExampleAgent at 0x1ed124b7a30>,\n <__main__.ExampleAgent at 0x1ed124b7a90>,\n <__main__.ExampleAgent at 0x1ed124b7af0>,\n <__main__.ExampleAgent at 0x1ed124b5690>,\n <__main__.ExampleAgent at 0x1ed124b56f0>,\n <__main__.ExampleAgent at 0x1ed124b5750>,\n <__main__.ExampleAgent at 0x1ed124b57b0>,\n <__main__.ExampleAgent at 0x1ed124b5810>,\n <__main__.ExampleAgent at 0x1ed124b5870>,\n <__main__.ExampleAgent at 0x1ed124b58d0>,\n <__main__.ExampleAgent at 0x1ed124b5930>,\n <__main__.ExampleAgent at 0x1ed124b5990>,\n <__main__.ExampleAgent at 0x1ed124b59f0>,\n <__main__.ExampleAgent at 0x1ed124b5a50>,\n <__main__.ExampleAgent at 0x1ed124b5ab0>,\n <__main__.ExampleAgent at 0x1ed124b5b10>,\n <__main__.ExampleAgent at 0x1ed124b5b70>,\n <__main__.ExampleAgent at 0x1ed124b5c60>,\n <__main__.ExampleAgent at 0x1ed124b5bd0>,\n <__main__.ExampleAgent at 0x1ed124b5c90>,\n <__main__.ExampleAgent at 0x1ed124b5cf0>,\n <__main__.ExampleAgent at 0x1ed124b5d50>,\n <__main__.ExampleAgent at 0x1ed124b5db0>,\n <__main__.ExampleAgent at 0x1ed124b5e10>,\n <__main__.ExampleAgent at 0x1ed124b5e70>,\n <__main__.ExampleAgent at 0x1ed09d211b0>,\n <__main__.ExampleAgent at 0x1ed09d20220>,\n <__main__.ExampleAgent at 0x1ed09cc6d40>,\n <__main__.ExampleAgent at 0x1ed09d23ee0>,\n <__main__.ExampleAgent at 0x1ed124fd330>,\n <__main__.ExampleAgent at 0x1ed124fd390>,\n <__main__.ExampleAgent at 0x1ed124fd300>,\n <__main__.ExampleAgent at 0x1ed124fd3c0>,\n <__main__.ExampleAgent at 0x1ed124fd420>,\n <__main__.ExampleAgent at 0x1ed124fd840>,\n <__main__.ExampleAgent at 0x1ed124fd8a0>,\n <__main__.ExampleAgent at 0x1ed124fd900>,\n <__main__.ExampleAgent at 0x1ed124fd960>,\n <__main__.ExampleAgent at 0x1ed124fd9c0>,\n <__main__.ExampleAgent at 0x1ed124fda20>,\n <__main__.ExampleAgent at 0x1ed124fda80>,\n <__main__.ExampleAgent at 0x1ed124fdf60>,\n <__main__.ExampleAgent at 0x1ed124fdfc0>,\n <__main__.ExampleAgent at 0x1ed124fe020>,\n <__main__.ExampleAgent at 0x1ed124fe080>,\n <__main__.ExampleAgent at 0x1ed124fe0e0>,\n <__main__.ExampleAgent at 0x1ed124fe140>,\n <__main__.ExampleAgent at 0x1ed124fe1a0>,\n <__main__.ExampleAgent at 0x1ed124fe200>,\n <__main__.ExampleAgent at 0x1ed124fe260>,\n <__main__.ExampleAgent at 0x1ed124fe2c0>,\n <__main__.ExampleAgent at 0x1ed124fe320>,\n <__main__.ExampleAgent at 0x1ed124fe380>,\n <__main__.ExampleAgent at 0x1ed124fe3e0>,\n <__main__.ExampleAgent at 0x1ed124fe6b0>,\n <__main__.ExampleAgent at 0x1ed124fe710>,\n <__main__.ExampleAgent at 0x1ed124fe770>,\n <__main__.ExampleAgent at 0x1ed124fe7d0>,\n <__main__.ExampleAgent at 0x1ed124fd6c0>,\n <__main__.ExampleAgent at 0x1ed124fd660>,\n <__main__.ExampleAgent at 0x1ed124fd600>,\n <__main__.ExampleAgent at 0x1ed124fd5a0>,\n <__main__.ExampleAgent at 0x1ed124fd540>,\n <__main__.ExampleAgent at 0x1ed124fd4e0>,\n <__main__.ExampleAgent at 0x1ed124ff1f0>,\n <__main__.ExampleAgent at 0x1ed124fddb0>,\n <__main__.ExampleAgent at 0x1ed124fde10>,\n <__main__.ExampleAgent at 0x1ed124fde70>,\n <__main__.ExampleAgent at 0x1ed124fded0>,\n <__main__.ExampleAgent at 0x1ed124fed40>,\n <__main__.ExampleAgent at 0x1ed124ffac0>,\n <__main__.ExampleAgent at 0x1ed124ffa60>,\n <__main__.ExampleAgent at 0x1ed124ff400>,\n <__main__.ExampleAgent at 0x1ed124fe800>,\n <__main__.ExampleAgent at 0x1ed124fe860>,\n <__main__.ExampleAgent at 0x1ed124fe8c0>,\n <__main__.ExampleAgent at 0x1ed124fe9b0>,\n <__main__.ExampleAgent at 0x1ed124b3400>,\n <__main__.ExampleAgent at 0x1ed124b33d0>,\n <__main__.ExampleAgent at 0x1ed124b2e00>,\n <__main__.ExampleAgent at 0x1ed124b2c80>,\n <__main__.ExampleAgent at 0x1ed124b2bf0>,\n <__main__.ExampleAgent at 0x1ed124b0970>,\n <__main__.ExampleAgent at 0x1ed124b0910>,\n <__main__.ExampleAgent at 0x1ed124b08b0>,\n <__main__.ExampleAgent at 0x1ed124b0850>,\n <__main__.ExampleAgent at 0x1ed124b37c0>,\n <__main__.ExampleAgent at 0x1ed124b38b0>,\n <__main__.ExampleAgent at 0x1ed124b38e0>,\n <__main__.ExampleAgent at 0x1ed124b3be0>,\n <__main__.ExampleAgent at 0x1ed124b22c0>,\n <__main__.ExampleAgent at 0x1ed124b2260>,\n <__main__.ExampleAgent at 0x1ed124b1600>,\n <__main__.ExampleAgent at 0x1ed124b15a0>,\n <__main__.ExampleAgent at 0x1ed124b1540>,\n <__main__.ExampleAgent at 0x1ed124b3460>,\n <__main__.ExampleAgent at 0x1ed124b34c0>,\n <__main__.ExampleAgent at 0x1ed124b3520>,\n <__main__.ExampleAgent at 0x1ed124b3580>,\n <__main__.ExampleAgent at 0x1ed124b3730>,\n <__main__.ExampleAgent at 0x1ed124b2500>,\n <__main__.ExampleAgent at 0x1ed124b0730>,\n <__main__.ExampleAgent at 0x1ed124b14b0>,\n <__main__.ExampleAgent at 0x1ed124b1510>,\n <__main__.ExampleAgent at 0x1ed124b0d30>,\n <__main__.ExampleAgent at 0x1ed124b0cd0>,\n <__main__.ExampleAgent at 0x1ed124b0c70>,\n <__main__.ExampleAgent at 0x1ed124b0c10>,\n <__main__.ExampleAgent at 0x1ed124b0bb0>,\n <__main__.ExampleAgent at 0x1ed124b0ac0>,\n <__main__.ExampleAgent at 0x1ed124b0b50>,\n <__main__.ExampleAgent at 0x1ed124b0a90>,\n <__main__.ExampleAgent at 0x1ed124b0a30>,\n <__main__.ExampleAgent at 0x1ed124b09d0>,\n <__main__.ExampleAgent at 0x1ed124b1660>,\n <__main__.ExampleAgent at 0x1ed124b16c0>,\n <__main__.ExampleAgent at 0x1ed124b1720>,\n <__main__.ExampleAgent at 0x1ed124b3eb0>,\n <__main__.ExampleAgent at 0x1ed124b3e50>,\n <__main__.ExampleAgent at 0x1ed124b3370>,\n <__main__.ExampleAgent at 0x1ed124b3310>,\n <__main__.ExampleAgent at 0x1ed124b31c0>,\n <__main__.ExampleAgent at 0x1ed124b3160>,\n <__main__.ExampleAgent at 0x1ed124b3100>,\n <__main__.ExampleAgent at 0x1ed124b30a0>,\n <__main__.ExampleAgent at 0x1ed124b2fe0>,\n <__main__.ExampleAgent at 0x1ed124b2f80>,\n <__main__.ExampleAgent at 0x1ed124b2ef0>,\n <__main__.ExampleAgent at 0x1ed124b2c50>,\n <__main__.ExampleAgent at 0x1ed124b1c60>,\n <__main__.ExampleAgent at 0x1ed124b1c00>,\n <__main__.ExampleAgent at 0x1ed124b1ba0>,\n <__main__.ExampleAgent at 0x1ed124b1b40>,\n <__main__.ExampleAgent at 0x1ed124b1ae0>,\n <__main__.ExampleAgent at 0x1ed124b1a80>,\n <__main__.ExampleAgent at 0x1ed124b1a20>,\n <__main__.ExampleAgent at 0x1ed124b19c0>,\n <__main__.ExampleAgent at 0x1ed124b1960>,\n <__main__.ExampleAgent at 0x1ed124b1900>,\n <__main__.ExampleAgent at 0x1ed124b18a0>,\n <__main__.ExampleAgent at 0x1ed124b1840>,\n <__main__.ExampleAgent at 0x1ed124b07f0>,\n <__main__.ExampleAgent at 0x1ed124b0790>,\n <__main__.ExampleAgent at 0x1ed124b1390>,\n <__main__.ExampleAgent at 0x1ed124b3f70>,\n <__main__.ExampleAgent at 0x1ed124b13f0>,\n <__main__.ExampleAgent at 0x1ed124b3f40>,\n <__main__.ExampleAgent at 0x1ed124b3d60>,\n <__main__.ExampleAgent at 0x1ed124b3280>,\n <__main__.ExampleAgent at 0x1ed124b3700>,\n <__main__.ExampleAgent at 0x1ed124b2d10>,\n <__main__.ExampleAgent at 0x1ed124b06a0>,\n <__main__.ExampleAgent at 0x1ed124b0640>,\n <__main__.ExampleAgent at 0x1ed124b05e0>,\n <__main__.ExampleAgent at 0x1ed124b0580>,\n <__main__.ExampleAgent at 0x1ed124b0520>,\n <__main__.ExampleAgent at 0x1ed124b04c0>,\n <__main__.ExampleAgent at 0x1ed124b0460>,\n <__main__.ExampleAgent at 0x1ed124b0400>,\n <__main__.ExampleAgent at 0x1ed124b03a0>,\n <__main__.ExampleAgent at 0x1ed124b0340>,\n <__main__.ExampleAgent at 0x1ed124b02e0>,\n <__main__.ExampleAgent at 0x1ed124b0280>,\n <__main__.ExampleAgent at 0x1ed124b0220>,\n <__main__.ExampleAgent at 0x1ed124b01c0>,\n <__main__.ExampleAgent at 0x1ed124b1f30>,\n <__main__.ExampleAgent at 0x1ed124b0040>,\n <__main__.ExampleAgent at 0x1ed124b1ff0>,\n <__main__.ExampleAgent at 0x1ed124b1f60>,\n <__main__.ExampleAgent at 0x1ed124b2020>,\n <__main__.ExampleAgent at 0x1ed124b2080>,\n <__main__.ExampleAgent at 0x1ed124b20e0>,\n <__main__.ExampleAgent at 0x1ed124b2140>,\n <__main__.ExampleAgent at 0x1ed124b21a0>,\n <__main__.ExampleAgent at 0x1ed124b2200>,\n <__main__.ExampleAgent at 0x1ed124b3ca0>,\n <__main__.ExampleAgent at 0x1ed124b3fa0>,\n <__main__.ExampleAgent at 0x1ed124b3c70>,\n <__main__.ExampleAgent at 0x1ed124b3c10>,\n <__main__.ExampleAgent at 0x1ed124b3b50>,\n <__main__.ExampleAgent at 0x1ed124b3af0>,\n <__main__.ExampleAgent at 0x1ed124b0d90>,\n <__main__.ExampleAgent at 0x1ed124b3a90>,\n <__main__.ExampleAgent at 0x1ed124b0dc0>,\n <__main__.ExampleAgent at 0x1ed124b0e20>,\n <__main__.ExampleAgent at 0x1ed124b0e80>,\n <__main__.ExampleAgent at 0x1ed124b0ee0>,\n <__main__.ExampleAgent at 0x1ed124b0fd0>,\n <__main__.ExampleAgent at 0x1ed124b0f40>,\n <__main__.ExampleAgent at 0x1ed124b1000>,\n <__main__.ExampleAgent at 0x1ed124b1060>,\n <__main__.ExampleAgent at 0x1ed124b1150>,\n <__main__.ExampleAgent at 0x1ed124b10c0>,\n <__main__.ExampleAgent at 0x1ed124b1180>,\n <__main__.ExampleAgent at 0x1ed124b11e0>,\n <__main__.ExampleAgent at 0x1ed124b1240>,\n <__main__.ExampleAgent at 0x1ed124b12a0>,\n <__main__.ExampleAgent at 0x1ed124b1300>,\n <__main__.ExampleAgent at 0x1ed124b1360>,\n <__main__.ExampleAgent at 0x1ed124b17b0>,\n <__main__.ExampleAgent at 0x1ed124b1c90>,\n <__main__.ExampleAgent at 0x1ed124b1cf0>,\n <__main__.ExampleAgent at 0x1ed124b1d50>,\n <__main__.ExampleAgent at 0x1ed124b1db0>,\n <__main__.ExampleAgent at 0x1ed124b1e10>,\n <__main__.ExampleAgent at 0x1ed124b1e70>,\n <__main__.ExampleAgent at 0x1ed124b1ed0>,\n <__main__.ExampleAgent at 0x1ed124b3e20>,\n <__main__.ExampleAgent at 0x1ed124b3dc0>,\n <__main__.ExampleAgent at 0x1ed124b36d0>,\n <__main__.ExampleAgent at 0x1ed124b3670>,\n <__main__.ExampleAgent at 0x1ed124b3220>,\n <__main__.ExampleAgent at 0x1ed124a3eb0>,\n <__main__.ExampleAgent at 0x1ed124a3970>,\n <__main__.ExampleAgent at 0x1ed124a2590>,\n <__main__.ExampleAgent at 0x1ed124a0970>,\n <__main__.ExampleAgent at 0x1ed124a2e60>,\n <__main__.ExampleAgent at 0x1ed126a40d0>,\n <__main__.ExampleAgent at 0x1ed126a4370>,\n <__main__.ExampleAgent at 0x1ed126a4430>,\n <__main__.ExampleAgent at 0x1ed126a43a0>,\n <__main__.ExampleAgent at 0x1ed126a4460>,\n <__main__.ExampleAgent at 0x1ed126a44c0>,\n <__main__.ExampleAgent at 0x1ed126a4520>,\n <__main__.ExampleAgent at 0x1ed126a4580>,\n <__main__.ExampleAgent at 0x1ed126a45e0>,\n <__main__.ExampleAgent at 0x1ed126a4640>,\n <__main__.ExampleAgent at 0x1ed126a46a0>,\n <__main__.ExampleAgent at 0x1ed126a4700>,\n <__main__.ExampleAgent at 0x1ed126a4760>,\n <__main__.ExampleAgent at 0x1ed126a47c0>,\n <__main__.ExampleAgent at 0x1ed126a4820>,\n <__main__.ExampleAgent at 0x1ed126a4880>,\n <__main__.ExampleAgent at 0x1ed126a48e0>,\n <__main__.ExampleAgent at 0x1ed126a4940>,\n <__main__.ExampleAgent at 0x1ed126a49a0>,\n <__main__.ExampleAgent at 0x1ed126a4a00>,\n <__main__.ExampleAgent at 0x1ed126a4a60>,\n <__main__.ExampleAgent at 0x1ed126a4ac0>,\n <__main__.ExampleAgent at 0x1ed126a4b20>,\n <__main__.ExampleAgent at 0x1ed126a4b80>,\n <__main__.ExampleAgent at 0x1ed126a4be0>,\n <__main__.ExampleAgent at 0x1ed126a4c40>,\n <__main__.ExampleAgent at 0x1ed126a4ca0>,\n <__main__.ExampleAgent at 0x1ed126a4d00>,\n <__main__.ExampleAgent at 0x1ed126a4d60>,\n <__main__.ExampleAgent at 0x1ed126a4dc0>,\n <__main__.ExampleAgent at 0x1ed126a4eb0>,\n <__main__.ExampleAgent at 0x1ed126a4e20>,\n <__main__.ExampleAgent at 0x1ed126a4ee0>,\n <__main__.ExampleAgent at 0x1ed126a4f40>,\n <__main__.ExampleAgent at 0x1ed126a4fa0>,\n <__main__.ExampleAgent at 0x1ed126a5000>,\n <__main__.ExampleAgent at 0x1ed126a5060>,\n <__main__.ExampleAgent at 0x1ed126a50c0>,\n <__main__.ExampleAgent at 0x1ed126a5120>,\n <__main__.ExampleAgent at 0x1ed126a5180>,\n <__main__.ExampleAgent at 0x1ed126a51e0>,\n <__main__.ExampleAgent at 0x1ed126a5240>,\n <__main__.ExampleAgent at 0x1ed126a52a0>,\n <__main__.ExampleAgent at 0x1ed126a5300>,\n <__main__.ExampleAgent at 0x1ed126a5360>,\n <__main__.ExampleAgent at 0x1ed126a53c0>,\n <__main__.ExampleAgent at 0x1ed126a5420>,\n <__main__.ExampleAgent at 0x1ed126a5480>,\n <__main__.ExampleAgent at 0x1ed126a54e0>,\n <__main__.ExampleAgent at 0x1ed126a5540>,\n <__main__.ExampleAgent at 0x1ed126a55a0>,\n <__main__.ExampleAgent at 0x1ed126a5600>,\n <__main__.ExampleAgent at 0x1ed126a5660>,\n <__main__.ExampleAgent at 0x1ed126a56c0>,\n <__main__.ExampleAgent at 0x1ed126a5720>,\n <__main__.ExampleAgent at 0x1ed126a5780>,\n <__main__.ExampleAgent at 0x1ed126a57e0>,\n <__main__.ExampleAgent at 0x1ed126a5840>,\n <__main__.ExampleAgent at 0x1ed128ea440>,\n <__main__.ExampleAgent at 0x1ed128a5f60>,\n <__main__.ExampleAgent at 0x1ed124a7a90>,\n <__main__.ExampleAgent at 0x1ed128bea10>,\n <__main__.ExampleAgent at 0x1ed1288b820>,\n <__main__.ExampleAgent at 0x1ed128d6320>,\n <__main__.ExampleAgent at 0x1ed126a5960>,\n <__main__.ExampleAgent at 0x1ed126a5900>,\n <__main__.ExampleAgent at 0x1ed126a5990>,\n <__main__.ExampleAgent at 0x1ed126a59f0>,\n <__main__.ExampleAgent at 0x1ed126a5a50>,\n <__main__.ExampleAgent at 0x1ed126a5ab0>,\n <__main__.ExampleAgent at 0x1ed126a5b10>,\n <__main__.ExampleAgent at 0x1ed126a5b70>,\n <__main__.ExampleAgent at 0x1ed126a5bd0>,\n <__main__.ExampleAgent at 0x1ed126a5c30>,\n <__main__.ExampleAgent at 0x1ed126a5c90>,\n <__main__.ExampleAgent at 0x1ed126a5cf0>,\n <__main__.ExampleAgent at 0x1ed126a5d50>,\n <__main__.ExampleAgent at 0x1ed126a5db0>,\n <__main__.ExampleAgent at 0x1ed126a5e10>,\n <__main__.ExampleAgent at 0x1ed126a5e70>,\n <__main__.ExampleAgent at 0x1ed126a5ed0>,\n <__main__.ExampleAgent at 0x1ed126a5f30>,\n <__main__.ExampleAgent at 0x1ed126a5f90>,\n <__main__.ExampleAgent at 0x1ed126a5ff0>,\n <__main__.ExampleAgent at 0x1ed126a6050>,\n <__main__.ExampleAgent at 0x1ed126a60b0>,\n <__main__.ExampleAgent at 0x1ed126a6110>,\n <__main__.ExampleAgent at 0x1ed126a6170>,\n <__main__.ExampleAgent at 0x1ed126a61d0>,\n <__main__.ExampleAgent at 0x1ed126a6230>,\n <__main__.ExampleAgent at 0x1ed126a6290>,\n <__main__.ExampleAgent at 0x1ed126a6380>,\n <__main__.ExampleAgent at 0x1ed126a62f0>,\n <__main__.ExampleAgent at 0x1ed126a63b0>,\n <__main__.ExampleAgent at 0x1ed126a6410>,\n <__main__.ExampleAgent at 0x1ed126a6470>,\n <__main__.ExampleAgent at 0x1ed126a64d0>,\n <__main__.ExampleAgent at 0x1ed126a6530>,\n <__main__.ExampleAgent at 0x1ed126a6590>,\n <__main__.ExampleAgent at 0x1ed126a65f0>,\n <__main__.ExampleAgent at 0x1ed126a6650>,\n <__main__.ExampleAgent at 0x1ed126a6740>,\n <__main__.ExampleAgent at 0x1ed126a66b0>,\n <__main__.ExampleAgent at 0x1ed126a6770>,\n <__main__.ExampleAgent at 0x1ed126a67d0>,\n <__main__.ExampleAgent at 0x1ed126a6830>,\n <__main__.ExampleAgent at 0x1ed126a6890>,\n <__main__.ExampleAgent at 0x1ed126a6980>,\n <__main__.ExampleAgent at 0x1ed126a68f0>,\n <__main__.ExampleAgent at 0x1ed126a69b0>,\n <__main__.ExampleAgent at 0x1ed126a6a10>,\n <__main__.ExampleAgent at 0x1ed126a6a70>,\n <__main__.ExampleAgent at 0x1ed126a6ad0>,\n <__main__.ExampleAgent at 0x1ed126a6b30>,\n <__main__.ExampleAgent at 0x1ed126a6b90>,\n <__main__.ExampleAgent at 0x1ed126a6bf0>,\n <__main__.ExampleAgent at 0x1ed126a6c50>,\n <__main__.ExampleAgent at 0x1ed126a6cb0>,\n <__main__.ExampleAgent at 0x1ed126a6d10>,\n <__main__.ExampleAgent at 0x1ed126a6d70>,\n <__main__.ExampleAgent at 0x1ed126a6dd0>,\n <__main__.ExampleAgent at 0x1ed126a6e30>,\n <__main__.ExampleAgent at 0x1ed126a6e90>,\n <__main__.ExampleAgent at 0x1ed126a6ef0>,\n <__main__.ExampleAgent at 0x1ed126a6f50>,\n <__main__.ExampleAgent at 0x1ed126a6fb0>,\n <__main__.ExampleAgent at 0x1ed126a7010>,\n <__main__.ExampleAgent at 0x1ed126a7070>,\n <__main__.ExampleAgent at 0x1ed126a70d0>,\n <__main__.ExampleAgent at 0x1ed126a7130>,\n <__main__.ExampleAgent at 0x1ed126a7190>,\n <__main__.ExampleAgent at 0x1ed126a71f0>,\n <__main__.ExampleAgent at 0x1ed126a7250>,\n <__main__.ExampleAgent at 0x1ed126a72b0>,\n <__main__.ExampleAgent at 0x1ed126a73a0>,\n <__main__.ExampleAgent at 0x1ed126a7310>,\n <__main__.ExampleAgent at 0x1ed126a73d0>,\n <__main__.ExampleAgent at 0x1ed126a7430>,\n <__main__.ExampleAgent at 0x1ed126a7490>,\n <__main__.ExampleAgent at 0x1ed126a74f0>,\n <__main__.ExampleAgent at 0x1ed126a7550>,\n <__main__.ExampleAgent at 0x1ed126a75b0>,\n <__main__.ExampleAgent at 0x1ed126a7610>,\n <__main__.ExampleAgent at 0x1ed126a7670>,\n <__main__.ExampleAgent at 0x1ed126a76d0>,\n <__main__.ExampleAgent at 0x1ed126a7730>,\n <__main__.ExampleAgent at 0x1ed126a7790>,\n <__main__.ExampleAgent at 0x1ed126a77f0>,\n <__main__.ExampleAgent at 0x1ed126a7850>,\n <__main__.ExampleAgent at 0x1ed126a78b0>,\n <__main__.ExampleAgent at 0x1ed126a79a0>,\n <__main__.ExampleAgent at 0x1ed126a7910>,\n <__main__.ExampleAgent at 0x1ed126a79d0>,\n <__main__.ExampleAgent at 0x1ed126a7a30>,\n <__main__.ExampleAgent at 0x1ed126a7a90>,\n <__main__.ExampleAgent at 0x1ed126a7af0>,\n <__main__.ExampleAgent at 0x1ed126a7b50>,\n <__main__.ExampleAgent at 0x1ed126a7bb0>,\n <__main__.ExampleAgent at 0x1ed126a7c10>,\n <__main__.ExampleAgent at 0x1ed126a7c70>,\n <__main__.ExampleAgent at 0x1ed126a7cd0>,\n <__main__.ExampleAgent at 0x1ed126a7d30>,\n <__main__.ExampleAgent at 0x1ed126a7d90>,\n <__main__.ExampleAgent at 0x1ed126a7e80>,\n <__main__.ExampleAgent at 0x1ed126a7df0>,\n <__main__.ExampleAgent at 0x1ed126a7eb0>,\n <__main__.ExampleAgent at 0x1ed126a7f10>,\n <__main__.ExampleAgent at 0x1ed126a7f70>,\n <__main__.ExampleAgent at 0x1ed126a8070>,\n <__main__.ExampleAgent at 0x1ed126a80a0>,\n <__main__.ExampleAgent at 0x1ed126a80d0>,\n <__main__.ExampleAgent at 0x1ed126a8130>,\n <__main__.ExampleAgent at 0x1ed126a8190>,\n <__main__.ExampleAgent at 0x1ed126a8280>,\n <__main__.ExampleAgent at 0x1ed126a81f0>,\n <__main__.ExampleAgent at 0x1ed126a82b0>,\n <__main__.ExampleAgent at 0x1ed126a8310>,\n <__main__.ExampleAgent at 0x1ed126a8370>,\n <__main__.ExampleAgent at 0x1ed126a83d0>,\n <__main__.ExampleAgent at 0x1ed126a8430>,\n <__main__.ExampleAgent at 0x1ed126a8490>,\n <__main__.ExampleAgent at 0x1ed126a84f0>,\n <__main__.ExampleAgent at 0x1ed126a8550>,\n <__main__.ExampleAgent at 0x1ed126a85b0>,\n <__main__.ExampleAgent at 0x1ed126a8610>,\n <__main__.ExampleAgent at 0x1ed126a8670>,\n <__main__.ExampleAgent at 0x1ed126a86d0>,\n <__main__.ExampleAgent at 0x1ed126a8730>,\n <__main__.ExampleAgent at 0x1ed126a8790>,\n <__main__.ExampleAgent at 0x1ed126a87f0>,\n <__main__.ExampleAgent at 0x1ed126a8850>,\n <__main__.ExampleAgent at 0x1ed126a88b0>,\n <__main__.ExampleAgent at 0x1ed126a8910>,\n <__main__.ExampleAgent at 0x1ed126a8970>,\n <__main__.ExampleAgent at 0x1ed126a89d0>,\n <__main__.ExampleAgent at 0x1ed126a8a30>,\n <__main__.ExampleAgent at 0x1ed126a8a90>,\n <__main__.ExampleAgent at 0x1ed126a8af0>,\n <__main__.ExampleAgent at 0x1ed126a8b50>,\n <__main__.ExampleAgent at 0x1ed126a8bb0>,\n <__main__.ExampleAgent at 0x1ed126a8ca0>,\n <__main__.ExampleAgent at 0x1ed126a8c10>,\n <__main__.ExampleAgent at 0x1ed126a8cd0>,\n <__main__.ExampleAgent at 0x1ed126a8d30>,\n <__main__.ExampleAgent at 0x1ed126a8e20>,\n <__main__.ExampleAgent at 0x1ed126a8d90>,\n <__main__.ExampleAgent at 0x1ed126a8e50>,\n <__main__.ExampleAgent at 0x1ed126a8eb0>,\n <__main__.ExampleAgent at 0x1ed126a8f10>,\n <__main__.ExampleAgent at 0x1ed126a8f70>,\n <__main__.ExampleAgent at 0x1ed126a8fd0>,\n <__main__.ExampleAgent at 0x1ed126a9030>,\n <__main__.ExampleAgent at 0x1ed126a9090>,\n <__main__.ExampleAgent at 0x1ed126a90f0>,\n <__main__.ExampleAgent at 0x1ed126a9150>,\n <__main__.ExampleAgent at 0x1ed126a9240>,\n <__main__.ExampleAgent at 0x1ed126a91b0>,\n <__main__.ExampleAgent at 0x1ed126a9270>,\n <__main__.ExampleAgent at 0x1ed126a92d0>,\n <__main__.ExampleAgent at 0x1ed126a9330>,\n <__main__.ExampleAgent at 0x1ed126a9390>,\n <__main__.ExampleAgent at 0x1ed126a9480>,\n <__main__.ExampleAgent at 0x1ed126a93f0>,\n <__main__.ExampleAgent at 0x1ed126a94b0>,\n <__main__.ExampleAgent at 0x1ed126a9510>,\n <__main__.ExampleAgent at 0x1ed126a9570>,\n <__main__.ExampleAgent at 0x1ed126a95d0>,\n <__main__.ExampleAgent at 0x1ed126a9630>,\n <__main__.ExampleAgent at 0x1ed126a9690>,\n <__main__.ExampleAgent at 0x1ed126a96f0>,\n <__main__.ExampleAgent at 0x1ed126a9750>,\n <__main__.ExampleAgent at 0x1ed126a97b0>,\n <__main__.ExampleAgent at 0x1ed126a9810>,\n <__main__.ExampleAgent at 0x1ed126a9870>,\n <__main__.ExampleAgent at 0x1ed126a98d0>,\n <__main__.ExampleAgent at 0x1ed126a9930>,\n <__main__.ExampleAgent at 0x1ed126a9990>,\n <__main__.ExampleAgent at 0x1ed126a99f0>,\n <__main__.ExampleAgent at 0x1ed126a9a50>,\n <__main__.ExampleAgent at 0x1ed126a9ab0>,\n <__main__.ExampleAgent at 0x1ed126a9b10>,\n <__main__.ExampleAgent at 0x1ed126a9b70>,\n <__main__.ExampleAgent at 0x1ed126a9bd0>,\n <__main__.ExampleAgent at 0x1ed126a9c30>,\n <__main__.ExampleAgent at 0x1ed126a9c90>,\n <__main__.ExampleAgent at 0x1ed126a9cf0>,\n <__main__.ExampleAgent at 0x1ed126a9d50>,\n <__main__.ExampleAgent at 0x1ed126a9db0>,\n <__main__.ExampleAgent at 0x1ed126a9e10>,\n <__main__.ExampleAgent at 0x1ed126a9e70>,\n <__main__.ExampleAgent at 0x1ed126a9ed0>,\n <__main__.ExampleAgent at 0x1ed126a9f30>,\n <__main__.ExampleAgent at 0x1ed126aa020>,\n <__main__.ExampleAgent at 0x1ed126a9f90>,\n <__main__.ExampleAgent at 0x1ed126aa050>,\n <__main__.ExampleAgent at 0x1ed126aa0b0>,\n <__main__.ExampleAgent at 0x1ed126aa1a0>,\n <__main__.ExampleAgent at 0x1ed126aa110>,\n <__main__.ExampleAgent at 0x1ed126aa260>,\n <__main__.ExampleAgent at 0x1ed126aa1d0>,\n <__main__.ExampleAgent at 0x1ed126aa290>,\n <__main__.ExampleAgent at 0x1ed126aa2f0>,\n <__main__.ExampleAgent at 0x1ed126aa350>,\n <__main__.ExampleAgent at 0x1ed126aa3b0>,\n <__main__.ExampleAgent at 0x1ed126aa410>,\n <__main__.ExampleAgent at 0x1ed126aa470>,\n <__main__.ExampleAgent at 0x1ed126aa4d0>,\n <__main__.ExampleAgent at 0x1ed126aa530>,\n <__main__.ExampleAgent at 0x1ed126aa590>,\n <__main__.ExampleAgent at 0x1ed126aa5f0>,\n <__main__.ExampleAgent at 0x1ed126aa650>,\n <__main__.ExampleAgent at 0x1ed126aa6b0>,\n <__main__.ExampleAgent at 0x1ed126aa7a0>,\n <__main__.ExampleAgent at 0x1ed126aa710>,\n <__main__.ExampleAgent at 0x1ed126aa7d0>,\n <__main__.ExampleAgent at 0x1ed126aa830>,\n <__main__.ExampleAgent at 0x1ed126aa890>,\n <__main__.ExampleAgent at 0x1ed126aa8f0>,\n <__main__.ExampleAgent at 0x1ed126aa950>,\n <__main__.ExampleAgent at 0x1ed126aa9b0>,\n <__main__.ExampleAgent at 0x1ed126aaa10>,\n <__main__.ExampleAgent at 0x1ed126aaa70>,\n <__main__.ExampleAgent at 0x1ed126aaad0>,\n <__main__.ExampleAgent at 0x1ed126aab30>,\n <__main__.ExampleAgent at 0x1ed126aab90>,\n <__main__.ExampleAgent at 0x1ed126aabf0>,\n <__main__.ExampleAgent at 0x1ed126aac50>,\n <__main__.ExampleAgent at 0x1ed126aacb0>,\n <__main__.ExampleAgent at 0x1ed126aad10>,\n <__main__.ExampleAgent at 0x1ed126aad70>,\n <__main__.ExampleAgent at 0x1ed126aadd0>,\n <__main__.ExampleAgent at 0x1ed126aae30>,\n <__main__.ExampleAgent at 0x1ed126aae90>,\n <__main__.ExampleAgent at 0x1ed126aaef0>,\n <__main__.ExampleAgent at 0x1ed126aaf50>,\n <__main__.ExampleAgent at 0x1ed126aafb0>,\n <__main__.ExampleAgent at 0x1ed126ab010>,\n <__main__.ExampleAgent at 0x1ed126ab070>,\n <__main__.ExampleAgent at 0x1ed126ab0d0>,\n <__main__.ExampleAgent at 0x1ed126ab130>,\n <__main__.ExampleAgent at 0x1ed126ab190>,\n <__main__.ExampleAgent at 0x1ed126ab1f0>,\n <__main__.ExampleAgent at 0x1ed126ab250>,\n <__main__.ExampleAgent at 0x1ed126ab2e0>,\n <__main__.ExampleAgent at 0x1ed126ab340>,\n <__main__.ExampleAgent at 0x1ed126ab3a0>,\n <__main__.ExampleAgent at 0x1ed126ab400>,\n <__main__.ExampleAgent at 0x1ed126ab460>,\n <__main__.ExampleAgent at 0x1ed126ab4c0>,\n <__main__.ExampleAgent at 0x1ed126ab520>,\n <__main__.ExampleAgent at 0x1ed126ab580>,\n <__main__.ExampleAgent at 0x1ed126ab5e0>,\n <__main__.ExampleAgent at 0x1ed126ab640>,\n <__main__.ExampleAgent at 0x1ed126ab6a0>,\n <__main__.ExampleAgent at 0x1ed126ab700>,\n <__main__.ExampleAgent at 0x1ed126ab760>,\n <__main__.ExampleAgent at 0x1ed126ab7c0>,\n <__main__.ExampleAgent at 0x1ed126ab820>,\n <__main__.ExampleAgent at 0x1ed126ab880>,\n <__main__.ExampleAgent at 0x1ed126ab8e0>,\n <__main__.ExampleAgent at 0x1ed126ab940>,\n <__main__.ExampleAgent at 0x1ed126ab9a0>,\n <__main__.ExampleAgent at 0x1ed126aba00>,\n <__main__.ExampleAgent at 0x1ed126aba60>,\n <__main__.ExampleAgent at 0x1ed126abac0>,\n <__main__.ExampleAgent at 0x1ed126abbb0>,\n <__main__.ExampleAgent at 0x1ed126abb20>,\n <__main__.ExampleAgent at 0x1ed126abbe0>,\n <__main__.ExampleAgent at 0x1ed126abc40>,\n <__main__.ExampleAgent at 0x1ed126abca0>,\n <__main__.ExampleAgent at 0x1ed126abd00>,\n <__main__.ExampleAgent at 0x1ed126abd60>,\n <__main__.ExampleAgent at 0x1ed126abdc0>,\n <__main__.ExampleAgent at 0x1ed126abeb0>,\n <__main__.ExampleAgent at 0x1ed126abe20>,\n <__main__.ExampleAgent at 0x1ed126abf70>,\n <__main__.ExampleAgent at 0x1ed126abee0>,\n <__main__.ExampleAgent at 0x1ed126b2800>,\n <__main__.ExampleAgent at 0x1ed126b29b0>,\n <__main__.ExampleAgent at 0x1ed126b1330>,\n <__main__.ExampleAgent at 0x1ed126b34f0>,\n <__main__.ExampleAgent at 0x1ed126b3eb0>,\n <__main__.ExampleAgent at 0x1ed126b0070>,\n <__main__.ExampleAgent at 0x1ed126b2650>,\n <__main__.ExampleAgent at 0x1ed126b00a0>,\n <__main__.ExampleAgent at 0x1ed126b0100>,\n <__main__.ExampleAgent at 0x1ed126b0160>,\n <__main__.ExampleAgent at 0x1ed126b01c0>,\n <__main__.ExampleAgent at 0x1ed126b0220>,\n <__main__.ExampleAgent at 0x1ed126b0280>,\n <__main__.ExampleAgent at 0x1ed126b02e0>,\n <__main__.ExampleAgent at 0x1ed126b0340>,\n <__main__.ExampleAgent at 0x1ed126b0430>,\n <__main__.ExampleAgent at 0x1ed126b03a0>,\n <__main__.ExampleAgent at 0x1ed126b04f0>,\n <__main__.ExampleAgent at 0x1ed126b0460>,\n <__main__.ExampleAgent at 0x1ed126b0520>,\n <__main__.ExampleAgent at 0x1ed126b0580>,\n <__main__.ExampleAgent at 0x1ed126b05e0>,\n <__main__.ExampleAgent at 0x1ed126b0640>,\n <__main__.ExampleAgent at 0x1ed126b06a0>,\n <__main__.ExampleAgent at 0x1ed126b0700>,\n <__main__.ExampleAgent at 0x1ed126b0760>,\n <__main__.ExampleAgent at 0x1ed126b07c0>,\n <__main__.ExampleAgent at 0x1ed126b0820>,\n <__main__.ExampleAgent at 0x1ed126b0880>,\n <__main__.ExampleAgent at 0x1ed126b08e0>,\n <__main__.ExampleAgent at 0x1ed126b0940>,\n <__main__.ExampleAgent at 0x1ed126b09a0>,\n <__main__.ExampleAgent at 0x1ed126b0a00>,\n <__main__.ExampleAgent at 0x1ed126b0a60>,\n <__main__.ExampleAgent at 0x1ed126b0ac0>,\n <__main__.ExampleAgent at 0x1ed126b0b20>,\n <__main__.ExampleAgent at 0x1ed126b0b80>,\n <__main__.ExampleAgent at 0x1ed126b0be0>,\n <__main__.ExampleAgent at 0x1ed126b0c40>,\n <__main__.ExampleAgent at 0x1ed126b0ca0>,\n <__main__.ExampleAgent at 0x1ed126b0d00>,\n <__main__.ExampleAgent at 0x1ed126b0d60>,\n <__main__.ExampleAgent at 0x1ed126b0dc0>,\n <__main__.ExampleAgent at 0x1ed126b0e20>,\n <__main__.ExampleAgent at 0x1ed126b0e80>,\n <__main__.ExampleAgent at 0x1ed126e5150>,\n <__main__.ExampleAgent at 0x1ed126e4fa0>,\n <__main__.ExampleAgent at 0x1ed126e5240>,\n <__main__.ExampleAgent at 0x1ed126e52a0>,\n <__main__.ExampleAgent at 0x1ed126e5300>,\n <__main__.ExampleAgent at 0x1ed126e5360>,\n <__main__.ExampleAgent at 0x1ed126e53c0>,\n <__main__.ExampleAgent at 0x1ed126e5420>,\n <__main__.ExampleAgent at 0x1ed126e5480>,\n <__main__.ExampleAgent at 0x1ed126e54e0>,\n <__main__.ExampleAgent at 0x1ed126e5540>,\n <__main__.ExampleAgent at 0x1ed126e55a0>,\n <__main__.ExampleAgent at 0x1ed126e5600>,\n <__main__.ExampleAgent at 0x1ed126e5660>,\n <__main__.ExampleAgent at 0x1ed126e56c0>,\n <__main__.ExampleAgent at 0x1ed126e57b0>,\n <__main__.ExampleAgent at 0x1ed126e5720>,\n <__main__.ExampleAgent at 0x1ed126e57e0>,\n <__main__.ExampleAgent at 0x1ed126e5840>,\n <__main__.ExampleAgent at 0x1ed126e58a0>,\n <__main__.ExampleAgent at 0x1ed126e5900>,\n <__main__.ExampleAgent at 0x1ed126e5960>,\n <__main__.ExampleAgent at 0x1ed126e59c0>,\n <__main__.ExampleAgent at 0x1ed126e5a20>,\n <__main__.ExampleAgent at 0x1ed126e5a80>,\n <__main__.ExampleAgent at 0x1ed126e5ae0>,\n <__main__.ExampleAgent at 0x1ed126e5b40>,\n <__main__.ExampleAgent at 0x1ed126e5ba0>,\n <__main__.ExampleAgent at 0x1ed126e5c00>,\n <__main__.ExampleAgent at 0x1ed126e5c60>,\n <__main__.ExampleAgent at 0x1ed126e5cc0>,\n <__main__.ExampleAgent at 0x1ed126e5d20>,\n <__main__.ExampleAgent at 0x1ed126e5d80>,\n <__main__.ExampleAgent at 0x1ed126e5de0>,\n <__main__.ExampleAgent at 0x1ed126e5e40>,\n <__main__.ExampleAgent at 0x1ed126e5ea0>,\n <__main__.ExampleAgent at 0x1ed126e5f00>,\n <__main__.ExampleAgent at 0x1ed126e5f60>,\n <__main__.ExampleAgent at 0x1ed126e5fc0>,\n <__main__.ExampleAgent at 0x1ed126e6020>,\n <__main__.ExampleAgent at 0x1ed126e6080>,\n <__main__.ExampleAgent at 0x1ed126e60e0>,\n <__main__.ExampleAgent at 0x1ed126e6140>,\n <__main__.ExampleAgent at 0x1ed126e61a0>,\n <__main__.ExampleAgent at 0x1ed126e6200>,\n <__main__.ExampleAgent at 0x1ed126e6260>,\n <__main__.ExampleAgent at 0x1ed126e62c0>,\n <__main__.ExampleAgent at 0x1ed126e6320>,\n <__main__.ExampleAgent at 0x1ed126e6380>,\n <__main__.ExampleAgent at 0x1ed126e63e0>,\n <__main__.ExampleAgent at 0x1ed126e6440>,\n <__main__.ExampleAgent at 0x1ed126e64a0>,\n <__main__.ExampleAgent at 0x1ed126e6500>,\n <__main__.ExampleAgent at 0x1ed126e6560>,\n <__main__.ExampleAgent at 0x1ed126e65c0>,\n <__main__.ExampleAgent at 0x1ed126e6620>,\n <__main__.ExampleAgent at 0x1ed126e6680>,\n <__main__.ExampleAgent at 0x1ed126e66e0>,\n <__main__.ExampleAgent at 0x1ed126e67d0>,\n <__main__.ExampleAgent at 0x1ed126e6740>,\n <__main__.ExampleAgent at 0x1ed126e6800>,\n <__main__.ExampleAgent at 0x1ed126e6860>,\n <__main__.ExampleAgent at 0x1ed126e68c0>,\n <__main__.ExampleAgent at 0x1ed126e6920>,\n <__main__.ExampleAgent at 0x1ed126e6980>,\n <__main__.ExampleAgent at 0x1ed126e69e0>,\n <__main__.ExampleAgent at 0x1ed126e6a40>,\n <__main__.ExampleAgent at 0x1ed126e6aa0>,\n <__main__.ExampleAgent at 0x1ed126e6b00>,\n <__main__.ExampleAgent at 0x1ed126e6b60>,\n <__main__.ExampleAgent at 0x1ed126e6bc0>,\n <__main__.ExampleAgent at 0x1ed126e6c20>,\n <__main__.ExampleAgent at 0x1ed126e6d10>,\n <__main__.ExampleAgent at 0x1ed126e6c80>,\n <__main__.ExampleAgent at 0x1ed126e6d40>,\n <__main__.ExampleAgent at 0x1ed126e6da0>,\n <__main__.ExampleAgent at 0x1ed126e6e00>,\n <__main__.ExampleAgent at 0x1ed126e6e60>,\n <__main__.ExampleAgent at 0x1ed126e6ec0>,\n <__main__.ExampleAgent at 0x1ed126e6f20>,\n <__main__.ExampleAgent at 0x1ed126e6f80>,\n <__main__.ExampleAgent at 0x1ed126e6fe0>,\n <__main__.ExampleAgent at 0x1ed126e7040>,\n <__main__.ExampleAgent at 0x1ed126e70a0>,\n <__main__.ExampleAgent at 0x1ed126e7100>,\n <__main__.ExampleAgent at 0x1ed126e7160>,\n <__main__.ExampleAgent at 0x1ed126e71c0>,\n <__main__.ExampleAgent at 0x1ed126e7220>,\n <__main__.ExampleAgent at 0x1ed126e7280>,\n <__main__.ExampleAgent at 0x1ed126e72e0>,\n <__main__.ExampleAgent at 0x1ed126e73d0>,\n <__main__.ExampleAgent at 0x1ed126e7340>,\n <__main__.ExampleAgent at 0x1ed126e7400>,\n <__main__.ExampleAgent at 0x1ed126e7460>,\n <__main__.ExampleAgent at 0x1ed126e74c0>,\n <__main__.ExampleAgent at 0x1ed126e7520>,\n <__main__.ExampleAgent at 0x1ed126e7580>,\n <__main__.ExampleAgent at 0x1ed126e75e0>,\n <__main__.ExampleAgent at 0x1ed126e7640>,\n <__main__.ExampleAgent at 0x1ed126e76a0>,\n <__main__.ExampleAgent at 0x1ed126e7700>,\n <__main__.ExampleAgent at 0x1ed126e7760>,\n <__main__.ExampleAgent at 0x1ed126e77c0>,\n <__main__.ExampleAgent at 0x1ed126e7820>,\n <__main__.ExampleAgent at 0x1ed126e7880>,\n <__main__.ExampleAgent at 0x1ed126e78e0>,\n <__main__.ExampleAgent at 0x1ed126e7940>,\n <__main__.ExampleAgent at 0x1ed126e79a0>,\n <__main__.ExampleAgent at 0x1ed126e7a00>,\n <__main__.ExampleAgent at 0x1ed126e7a60>,\n <__main__.ExampleAgent at 0x1ed126e7ac0>,\n <__main__.ExampleAgent at 0x1ed126e7b20>,\n <__main__.ExampleAgent at 0x1ed126e7b80>,\n <__main__.ExampleAgent at 0x1ed126e7be0>,\n <__main__.ExampleAgent at 0x1ed126e7c40>,\n <__main__.ExampleAgent at 0x1ed126e7ca0>,\n <__main__.ExampleAgent at 0x1ed126e7d00>,\n <__main__.ExampleAgent at 0x1ed126e7d60>,\n <__main__.ExampleAgent at 0x1ed126e7dc0>,\n <__main__.ExampleAgent at 0x1ed126e7e20>,\n <__main__.ExampleAgent at 0x1ed126e7e80>,\n <__main__.ExampleAgent at 0x1ed126e7ee0>,\n <__main__.ExampleAgent at 0x1ed126e7f40>,\n <__main__.ExampleAgent at 0x1ed126fa290>,\n <__main__.ExampleAgent at 0x1ed126f9630>,\n <__main__.ExampleAgent at 0x1ed126f8670>,\n <__main__.ExampleAgent at 0x1ed126f97b0>,\n <__main__.ExampleAgent at 0x1ed126f8be0>,\n <__main__.ExampleAgent at 0x1ed126f93f0>,\n <__main__.ExampleAgent at 0x1ed126fa050>,\n <__main__.ExampleAgent at 0x1ed126fba00>,\n <__main__.ExampleAgent at 0x1ed126f8070>,\n <__main__.ExampleAgent at 0x1ed126f8160>,\n <__main__.ExampleAgent at 0x1ed126f80d0>,\n <__main__.ExampleAgent at 0x1ed126f8190>,\n <__main__.ExampleAgent at 0x1ed126f81f0>,\n <__main__.ExampleAgent at 0x1ed126f82e0>,\n <__main__.ExampleAgent at 0x1ed126f8250>,\n <__main__.ExampleAgent at 0x1ed126f8310>,\n <__main__.ExampleAgent at 0x1ed126f8400>,\n <__main__.ExampleAgent at 0x1ed126f8370>,\n <__main__.ExampleAgent at 0x1ed126f8430>,\n <__main__.ExampleAgent at 0x1ed126f8490>,\n <__main__.ExampleAgent at 0x1ed126f84f0>,\n <__main__.ExampleAgent at 0x1ed126f85e0>,\n <__main__.ExampleAgent at 0x1ed126f8550>,\n <__main__.ExampleAgent at 0x1ed127582b0>,\n <__main__.ExampleAgent at 0x1ed12758340>,\n <__main__.ExampleAgent at 0x1ed127583d0>,\n <__main__.ExampleAgent at 0x1ed127584f0>,\n <__main__.ExampleAgent at 0x1ed127587c0>,\n <__main__.ExampleAgent at 0x1ed12758610>,\n <__main__.ExampleAgent at 0x1ed12758850>,\n <__main__.ExampleAgent at 0x1ed12758970>,\n <__main__.ExampleAgent at 0x1ed12758a90>,\n <__main__.ExampleAgent at 0x1ed12758cd0>,\n <__main__.ExampleAgent at 0x1ed12758bb0>,\n <__main__.ExampleAgent at 0x1ed12758d00>,\n <__main__.ExampleAgent at 0x1ed12758d60>,\n <__main__.ExampleAgent at 0x1ed12758dc0>,\n <__main__.ExampleAgent at 0x1ed12758e20>,\n ...]"
     },
     "execution_count": 9,
     "metadata": {},
     "output_type": "execute_result"
    }
   ],
   "source": [
    "graph.agents"
   ],
   "metadata": {
    "collapsed": false,
    "ExecuteTime": {
     "end_time": "2023-06-05T17:26:37.385634100Z",
     "start_time": "2023-06-05T17:26:37.335621100Z"
    }
   }
  },
  {
   "cell_type": "code",
   "execution_count": 10,
   "outputs": [
    {
     "data": {
      "text/plain": "1101"
     },
     "execution_count": 10,
     "metadata": {},
     "output_type": "execute_result"
    }
   ],
   "source": [
    "len([agent for agent in iter(graph.agents) if agent.contacts is not None])"
   ],
   "metadata": {
    "collapsed": false,
    "ExecuteTime": {
     "end_time": "2023-06-05T17:26:39.492654400Z",
     "start_time": "2023-06-05T17:26:39.457615100Z"
    }
   }
  },
  {
   "cell_type": "code",
   "execution_count": 11,
   "outputs": [
    {
     "data": {
      "text/plain": "996"
     },
     "execution_count": 11,
     "metadata": {},
     "output_type": "execute_result"
    }
   ],
   "source": [
    "len(graph.agents[0].contacts)"
   ],
   "metadata": {
    "collapsed": false,
    "ExecuteTime": {
     "end_time": "2023-06-05T17:26:42.065838100Z",
     "start_time": "2023-06-05T17:26:42.023838300Z"
    }
   }
  },
  {
   "cell_type": "code",
   "execution_count": 12,
   "outputs": [
    {
     "data": {
      "text/plain": "12"
     },
     "execution_count": 12,
     "metadata": {},
     "output_type": "execute_result"
    }
   ],
   "source": [
    "len(graph.agents[999].contacts)"
   ],
   "metadata": {
    "collapsed": false,
    "ExecuteTime": {
     "end_time": "2023-06-05T17:26:43.895476900Z",
     "start_time": "2023-06-05T17:26:43.857441200Z"
    }
   }
  },
  {
   "cell_type": "code",
   "execution_count": null,
   "outputs": [],
   "source": [
    "end_state = abides.run(config={\"agents\": graph.get_agent_list(), \"stdout_log_level\": \"INFO\"})"
   ],
   "metadata": {
    "collapsed": false
   }
  },
  {
   "cell_type": "markdown",
   "source": [],
   "metadata": {
    "collapsed": false
   }
  },
  {
   "cell_type": "code",
   "execution_count": null,
   "outputs": [],
   "source": [
    "end_state"
   ],
   "metadata": {
    "collapsed": false
   }
  },
  {
   "cell_type": "code",
   "execution_count": null,
   "outputs": [],
   "source": [
    "end_state['agents'][2].received_messages"
   ],
   "metadata": {
    "collapsed": false
   }
  },
  {
   "cell_type": "code",
   "execution_count": null,
   "outputs": [],
   "source": [
    "end_state['agents'][0].received_messages"
   ],
   "metadata": {
    "collapsed": false
   }
  },
  {
   "cell_type": "code",
   "execution_count": null,
   "outputs": [],
   "source": [
    "graph.agents[0].contacts"
   ],
   "metadata": {
    "collapsed": false
   }
  },
  {
   "cell_type": "markdown",
   "source": [
    "# Message Processing Models"
   ],
   "metadata": {
    "collapsed": false
   }
  },
  {
   "cell_type": "code",
   "execution_count": null,
   "outputs": [],
   "source": [
    "from abides_markets.messages.trading_signal import SellSignal, BuySignal\n",
    "from abides_core.message_processing_model import MostRecentProcessingModel, VotingProcessingModel\n",
    "\n",
    "\n",
    "class ExampleAgent3(CommunicativeAgent):\n",
    "    def __init__(self, **kwargs):\n",
    "        super().__init__(**kwargs)\n",
    "        self.received_messages = []\n",
    "\n",
    "    def wakeup(self, current_time):\n",
    "        super().wakeup(current_time)\n",
    "        self.broadcast(BuySignal(symbol=\"test\"))\n",
    "\n",
    "\n",
    "class ExampleAgent4(CommunicativeAgent):\n",
    "    def __init__(self, **kwargs):\n",
    "        super().__init__(**kwargs)\n",
    "        self.received_messages = []\n",
    "\n",
    "    def wakeup(self, current_time):\n",
    "        super().wakeup(current_time)\n",
    "        self.broadcast(SellSignal(symbol=\"test\"))\n",
    "\n",
    "\n",
    "class ExampleAgent5(CommunicativeAgent):\n",
    "    def __init__(self, processing_model, **kwargs):\n",
    "        super().__init__(**kwargs)\n",
    "        self.received_messages = []\n",
    "        self.message_processing_model = processing_model\n",
    "        self.final_decision = None\n",
    "\n",
    "    def wakeup(self, current_time):\n",
    "        super().wakeup(current_time)\n",
    "        self.broadcast(Message())\n",
    "\n",
    "    def receive_message(self, current_time, sender_id, message):\n",
    "        super().receive_message(current_time, sender_id, message)\n",
    "        self.message_processing_model.on_receive(current_time, message, sender_id)\n",
    "        self.received_messages.append((current_time, sender_id, message))\n",
    "\n",
    "    def kernel_terminating(self):\n",
    "        self.final_decision = type(self.message_processing_model.on_decision())\n",
    "        super().kernel_terminating()\n"
   ],
   "metadata": {
    "collapsed": false
   }
  },
  {
   "cell_type": "code",
   "execution_count": null,
   "outputs": [],
   "source": [
    "# test 0: dwa centra jedno most recent, jedno voting\n",
    "# test probabilistic: dwa centra jedno TrustWeighted, jedno TrustedSource, agenci wysyłający sygnał raz na x nanosekund"
   ],
   "metadata": {
    "collapsed": false
   }
  },
  {
   "cell_type": "code",
   "execution_count": null,
   "outputs": [],
   "source": [
    "agents_graph_1 = [ExampleAgent4(id=next(id_gen)) for i in range(4)]\n",
    "agents_graph_1.extend([ExampleAgent3(id=next(id_gen)) for i in range(6)])\n",
    "\n",
    "agents_graph_2 = [ExampleAgent3(id=next(id_gen)) for i in range(5)]\n",
    "agents_graph_2.extend([ExampleAgent4(id=next(id_gen)) for i in range(5)])\n",
    "\n",
    "central_agent_1 = ExampleAgent5(processing_model=VotingProcessingModel(), id=next(id_gen))\n",
    "central_agent_2 = ExampleAgent5(processing_model=MostRecentProcessingModel(), id=next(id_gen))\n",
    "\n",
    "graph_1 = CentralizedNetwork.construct_from_agent_list(central_agent=central_agent_1, agent_list=agents_graph_1)\n",
    "graph_2 = CentralizedNetwork.construct_from_agent_list(central_agent=central_agent_2, agent_list=agents_graph_2)"
   ],
   "metadata": {
    "collapsed": false
   }
  },
  {
   "cell_type": "code",
   "execution_count": null,
   "outputs": [],
   "source": [
    "central_agent_1.id"
   ],
   "metadata": {
    "collapsed": false
   }
  },
  {
   "cell_type": "code",
   "execution_count": null,
   "outputs": [],
   "source": [
    "sim_agents = graph_1.get_agent_list()\n",
    "sim_agents.extend(graph_2.get_agent_list())\n",
    "sim_agents.sort(key=lambda agent: agent.id)"
   ],
   "metadata": {
    "collapsed": false
   }
  },
  {
   "cell_type": "code",
   "execution_count": null,
   "outputs": [],
   "source": [
    "[sim_agent.id for sim_agent in iter(sim_agents)]"
   ],
   "metadata": {
    "collapsed": false
   }
  },
  {
   "cell_type": "code",
   "execution_count": null,
   "outputs": [],
   "source": [
    "end_state = abides.run(config={\"agents\": sim_agents, \"stdout_log_level\": \"INFO\"})"
   ],
   "metadata": {
    "collapsed": false
   }
  },
  {
   "cell_type": "code",
   "execution_count": null,
   "outputs": [],
   "source": [
    "end_state['agents']"
   ],
   "metadata": {
    "collapsed": false
   }
  },
  {
   "cell_type": "code",
   "execution_count": null,
   "outputs": [],
   "source": [
    "# czemu nonetype? czy dostaje właściwą wiadomosc?\n",
    "end_state['agents'][20].received_messages"
   ],
   "metadata": {
    "collapsed": false
   }
  },
  {
   "cell_type": "code",
   "execution_count": null,
   "outputs": [],
   "source": [
    "end_state['agents'][21].final_decision"
   ],
   "metadata": {
    "collapsed": false
   }
  },
  {
   "cell_type": "code",
   "execution_count": null,
   "outputs": [],
   "source": [
    "end_state['agents'][20].final_decision"
   ],
   "metadata": {
    "collapsed": false
   }
  },
  {
   "cell_type": "markdown",
   "source": [
    "# *Friend*, *FalseFriend*, *Insider*"
   ],
   "metadata": {
    "collapsed": false
   }
  },
  {
   "cell_type": "code",
   "execution_count": null,
   "outputs": [],
   "source": [
    "from abides_markets.agents.network_agents import Friend, FalseFriend\n",
    "\n",
    "graph_1.get_agent_list()"
   ],
   "metadata": {
    "collapsed": false
   }
  },
  {
   "cell_type": "code",
   "execution_count": null,
   "outputs": [],
   "source": [],
   "metadata": {
    "collapsed": false
   }
  }
 ],
 "metadata": {
  "kernelspec": {
   "display_name": "Python 3",
   "language": "python",
   "name": "python3"
  },
  "language_info": {
   "codemirror_mode": {
    "name": "ipython",
    "version": 2
   },
   "file_extension": ".py",
   "mimetype": "text/x-python",
   "name": "python",
   "nbconvert_exporter": "python",
   "pygments_lexer": "ipython2",
   "version": "2.7.6"
  }
 },
 "nbformat": 4,
 "nbformat_minor": 0
}
