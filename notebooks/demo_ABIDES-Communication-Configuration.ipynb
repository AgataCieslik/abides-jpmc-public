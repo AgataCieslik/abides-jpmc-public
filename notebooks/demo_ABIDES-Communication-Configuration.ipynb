{
 "cells": [
  {
   "cell_type": "code",
   "execution_count": 1,
   "metadata": {
    "collapsed": true,
    "ExecuteTime": {
     "end_time": "2023-06-09T19:33:32.531643500Z",
     "start_time": "2023-06-09T19:33:30.970511600Z"
    }
   },
   "outputs": [],
   "source": [
    "from abides_markets.configs import rmsc04\n",
    "from abides_core import abides\n",
    "from abides_markets.utils import generate_latency_model"
   ]
  },
  {
   "cell_type": "code",
   "execution_count": 2,
   "outputs": [],
   "source": [
    "\n",
    "rmsc04_based_config = rmsc04.build_config()\n",
    "insider_id = len(rmsc04_based_config['agents'])\n",
    "follower_0_id = insider_id + 1\n",
    "follower_1_id = follower_0_id + 1"
   ],
   "metadata": {
    "collapsed": false,
    "ExecuteTime": {
     "end_time": "2023-06-09T19:33:34.832369700Z",
     "start_time": "2023-06-09T19:33:34.333368500Z"
    }
   }
  },
  {
   "cell_type": "markdown",
   "source": [],
   "metadata": {
    "collapsed": false
   }
  },
  {
   "cell_type": "code",
   "execution_count": 3,
   "outputs": [],
   "source": [
    "from abides_markets.agents import InsiderValueAgent\n",
    "from abides_markets.agents.network_agents import FollowerValueAgent, FollowerNoiseAgent\n",
    "\n",
    "#trzeba dopisać by followerzy też odpowiadali na zapytania\n",
    "insider_0 = InsiderValueAgent(id=insider_id, contacts = [follower_0_id, follower_1_id])\n",
    "follower_0 = FollowerValueAgent(id = follower_0_id,contacts = [insider_id])\n",
    "#follower_1 = FollowerNoiseAgent(id = follower_1_id,contacts = [insider_id])\n",
    "rmsc04_based_config['agents'].append(insider_0)\n",
    "rmsc04_based_config['agents'].append(follower_0)\n",
    "#rmsc04_based_config['agents'].append(follower_1)\n",
    "rmsc04_based_config['agent_latency_model'] = generate_latency_model(len(rmsc04_based_config['agents']))"
   ],
   "metadata": {
    "collapsed": false,
    "ExecuteTime": {
     "end_time": "2023-06-09T19:33:37.754719300Z",
     "start_time": "2023-06-09T19:33:37.718331700Z"
    }
   }
  },
  {
   "cell_type": "code",
   "execution_count": 4,
   "outputs": [
    {
     "data": {
      "text/plain": "1117"
     },
     "execution_count": 4,
     "metadata": {},
     "output_type": "execute_result"
    }
   ],
   "source": [
    "rmsc04_based_config['agents'][1117].id"
   ],
   "metadata": {
    "collapsed": false,
    "ExecuteTime": {
     "end_time": "2023-06-09T19:33:38.622507400Z",
     "start_time": "2023-06-09T19:33:38.599482100Z"
    }
   }
  },
  {
   "cell_type": "code",
   "execution_count": 5,
   "outputs": [
    {
     "name": "stderr",
     "output_type": "stream",
     "text": [
      "[22932] \u001B[1;30mINFO\u001B[0m \u001B[34mabides\u001B[0m Simulation Start Time: 2023-06-09 21:33:39.482223\n",
      "[22932] \u001B[1;30mINFO\u001B[0m \u001B[34mabides_core.kernel\u001B[0m --- Simulation time: 2021-02-05 00:00:00, messages processed: 0, wallclock elapsed: 0.00s ---\n",
      "[22932] \u001B[1;30mINFO\u001B[0m \u001B[34mabides_core.kernel\u001B[0m --- Simulation time: 2021-02-05 09:30:00, messages processed: 100,000, wallclock elapsed: 3.89s ---\n"
     ]
    },
    {
     "ename": "AttributeError",
     "evalue": "'int' object has no attribute 'obs_time'",
     "output_type": "error",
     "traceback": [
      "\u001B[1;31m---------------------------------------------------------------------------\u001B[0m",
      "\u001B[1;31mAttributeError\u001B[0m                            Traceback (most recent call last)",
      "Cell \u001B[1;32mIn[5], line 1\u001B[0m\n\u001B[1;32m----> 1\u001B[0m end_state \u001B[38;5;241m=\u001B[39m \u001B[43mabides\u001B[49m\u001B[38;5;241;43m.\u001B[39;49m\u001B[43mrun\u001B[49m\u001B[43m(\u001B[49m\u001B[43mconfig\u001B[49m\u001B[38;5;241;43m=\u001B[39;49m\u001B[43mrmsc04_based_config\u001B[49m\u001B[43m)\u001B[49m\n",
      "File \u001B[1;32m~\\abides-jpmc-public\\abides-core\\abides_core\\abides.py:59\u001B[0m, in \u001B[0;36mrun\u001B[1;34m(config, log_dir, kernel_seed, kernel_random_state)\u001B[0m\n\u001B[0;32m     55\u001B[0m sim_start_time \u001B[38;5;241m=\u001B[39m dt\u001B[38;5;241m.\u001B[39mdatetime\u001B[38;5;241m.\u001B[39mnow()\n\u001B[0;32m     57\u001B[0m logger\u001B[38;5;241m.\u001B[39minfo(\u001B[38;5;124mf\u001B[39m\u001B[38;5;124m\"\u001B[39m\u001B[38;5;124mSimulation Start Time: \u001B[39m\u001B[38;5;132;01m{\u001B[39;00msim_start_time\u001B[38;5;132;01m}\u001B[39;00m\u001B[38;5;124m\"\u001B[39m)\n\u001B[1;32m---> 59\u001B[0m end_state \u001B[38;5;241m=\u001B[39m \u001B[43mkernel\u001B[49m\u001B[38;5;241;43m.\u001B[39;49m\u001B[43mrun\u001B[49m\u001B[43m(\u001B[49m\u001B[43m)\u001B[49m\n\u001B[0;32m     61\u001B[0m sim_end_time \u001B[38;5;241m=\u001B[39m dt\u001B[38;5;241m.\u001B[39mdatetime\u001B[38;5;241m.\u001B[39mnow()\n\u001B[0;32m     62\u001B[0m logger\u001B[38;5;241m.\u001B[39minfo(\u001B[38;5;124mf\u001B[39m\u001B[38;5;124m\"\u001B[39m\u001B[38;5;124mSimulation End Time: \u001B[39m\u001B[38;5;132;01m{\u001B[39;00msim_end_time\u001B[38;5;132;01m}\u001B[39;00m\u001B[38;5;124m\"\u001B[39m)\n",
      "File \u001B[1;32m~\\abides-jpmc-public\\abides-core\\abides_core\\kernel.py:208\u001B[0m, in \u001B[0;36mKernel.run\u001B[1;34m(self)\u001B[0m\n\u001B[0;32m    195\u001B[0m \u001B[38;5;250m\u001B[39m\u001B[38;5;124;03m\"\"\"\u001B[39;00m\n\u001B[0;32m    196\u001B[0m \u001B[38;5;124;03mWrapper to run the entire simulation (when not running in ABIDES-Gym mode).\u001B[39;00m\n\u001B[0;32m    197\u001B[0m \n\u001B[1;32m   (...)\u001B[0m\n\u001B[0;32m    204\u001B[0m \u001B[38;5;124;03m    An object that contains all the objects at the end of the simulation.\u001B[39;00m\n\u001B[0;32m    205\u001B[0m \u001B[38;5;124;03m\"\"\"\u001B[39;00m\n\u001B[0;32m    206\u001B[0m \u001B[38;5;28mself\u001B[39m\u001B[38;5;241m.\u001B[39minitialize()\n\u001B[1;32m--> 208\u001B[0m \u001B[38;5;28;43mself\u001B[39;49m\u001B[38;5;241;43m.\u001B[39;49m\u001B[43mrunner\u001B[49m\u001B[43m(\u001B[49m\u001B[43m)\u001B[49m\n\u001B[0;32m    210\u001B[0m \u001B[38;5;28;01mreturn\u001B[39;00m \u001B[38;5;28mself\u001B[39m\u001B[38;5;241m.\u001B[39mterminate()\n",
      "File \u001B[1;32m~\\abides-jpmc-public\\abides-core\\abides_core\\kernel.py:427\u001B[0m, in \u001B[0;36mKernel.runner\u001B[1;34m(self, agent_actions)\u001B[0m\n\u001B[0;32m    418\u001B[0m             \u001B[38;5;28;01mif\u001B[39;00m \u001B[38;5;28mself\u001B[39m\u001B[38;5;241m.\u001B[39mshow_trace_messages:\n\u001B[0;32m    419\u001B[0m                 logger\u001B[38;5;241m.\u001B[39mdebug(\n\u001B[0;32m    420\u001B[0m                     \u001B[38;5;124m\"\u001B[39m\u001B[38;5;124mAfter receive_message return, agent \u001B[39m\u001B[38;5;132;01m{}\u001B[39;00m\u001B[38;5;124m delayed from \u001B[39m\u001B[38;5;132;01m{}\u001B[39;00m\u001B[38;5;124m to \u001B[39m\u001B[38;5;132;01m{}\u001B[39;00m\u001B[38;5;124m\"\u001B[39m\u001B[38;5;241m.\u001B[39mformat(\n\u001B[0;32m    421\u001B[0m                         recipient_id,\n\u001B[1;32m   (...)\u001B[0m\n\u001B[0;32m    424\u001B[0m                     )\n\u001B[0;32m    425\u001B[0m                 )\n\u001B[1;32m--> 427\u001B[0m             \u001B[38;5;28;43mself\u001B[39;49m\u001B[38;5;241;43m.\u001B[39;49m\u001B[43magents\u001B[49m\u001B[43m[\u001B[49m\u001B[43mrecipient_id\u001B[49m\u001B[43m]\u001B[49m\u001B[38;5;241;43m.\u001B[39;49m\u001B[43mreceive_message\u001B[49m\u001B[43m(\u001B[49m\n\u001B[0;32m    428\u001B[0m \u001B[43m                \u001B[49m\u001B[38;5;28;43mself\u001B[39;49m\u001B[38;5;241;43m.\u001B[39;49m\u001B[43mcurrent_time\u001B[49m\u001B[43m,\u001B[49m\u001B[43m \u001B[49m\u001B[43msender_id\u001B[49m\u001B[43m,\u001B[49m\u001B[43m \u001B[49m\u001B[43mmessage\u001B[49m\n\u001B[0;32m    429\u001B[0m \u001B[43m            \u001B[49m\u001B[43m)\u001B[49m\n\u001B[0;32m    431\u001B[0m \u001B[38;5;28;01mif\u001B[39;00m \u001B[38;5;28mself\u001B[39m\u001B[38;5;241m.\u001B[39mmessages\u001B[38;5;241m.\u001B[39mempty():\n\u001B[0;32m    432\u001B[0m     logger\u001B[38;5;241m.\u001B[39mdebug(\u001B[38;5;124m\"\u001B[39m\u001B[38;5;124m--- Kernel Event Queue empty ---\u001B[39m\u001B[38;5;124m\"\u001B[39m)\n",
      "File \u001B[1;32m~\\abides-jpmc-public\\abides-markets\\abides_markets\\agents\\network_agents\\follower_value_agent.py:166\u001B[0m, in \u001B[0;36mFollowerValueAgent.receive_message\u001B[1;34m(self, current_time, sender_id, message)\u001B[0m\n\u001B[0;32m    164\u001B[0m \u001B[38;5;28mself\u001B[39m\u001B[38;5;241m.\u001B[39mlast_news[sender_id] \u001B[38;5;241m=\u001B[39m message\n\u001B[0;32m    165\u001B[0m \u001B[38;5;28;01mif\u001B[39;00m (\u001B[38;5;28mself\u001B[39m\u001B[38;5;241m.\u001B[39mreceived_all_responses \u001B[38;5;241m==\u001B[39m \u001B[38;5;28;01mTrue\u001B[39;00m):\n\u001B[1;32m--> 166\u001B[0m     obs_time, estimate \u001B[38;5;241m=\u001B[39m \u001B[38;5;28;43mself\u001B[39;49m\u001B[38;5;241;43m.\u001B[39;49m\u001B[43mget_most_recent_estimate\u001B[49m\u001B[43m(\u001B[49m\u001B[43m)\u001B[49m\n\u001B[0;32m    167\u001B[0m     \u001B[38;5;28mself\u001B[39m\u001B[38;5;241m.\u001B[39mprev_obs_time \u001B[38;5;241m=\u001B[39m obs_time\n\u001B[0;32m    168\u001B[0m     \u001B[38;5;28mself\u001B[39m\u001B[38;5;241m.\u001B[39mfinal_fundamental \u001B[38;5;241m=\u001B[39m estimate\n",
      "File \u001B[1;32m~\\abides-jpmc-public\\abides-markets\\abides_markets\\agents\\network_agents\\follower_value_agent.py:65\u001B[0m, in \u001B[0;36mFollowerValueAgent.get_most_recent_estimate\u001B[1;34m(self)\u001B[0m\n\u001B[0;32m     64\u001B[0m \u001B[38;5;28;01mdef\u001B[39;00m \u001B[38;5;21mget_most_recent_estimate\u001B[39m(\u001B[38;5;28mself\u001B[39m) \u001B[38;5;241m-\u001B[39m\u001B[38;5;241m>\u001B[39m Tuple[NanosecondTime, \u001B[38;5;28mfloat\u001B[39m]:\n\u001B[1;32m---> 65\u001B[0m     sorted_messages \u001B[38;5;241m=\u001B[39m \u001B[38;5;28;43msorted\u001B[39;49m\u001B[43m(\u001B[49m\u001B[38;5;28;43mself\u001B[39;49m\u001B[38;5;241;43m.\u001B[39;49m\u001B[43mlast_news\u001B[49m\u001B[43m,\u001B[49m\u001B[43m \u001B[49m\u001B[43mkey\u001B[49m\u001B[38;5;241;43m=\u001B[39;49m\u001B[38;5;28;43;01mlambda\u001B[39;49;00m\u001B[43m \u001B[49m\u001B[43mmessage\u001B[49m\u001B[43m:\u001B[49m\u001B[43m \u001B[49m\u001B[43mmessage\u001B[49m\u001B[38;5;241;43m.\u001B[39;49m\u001B[43mobs_time\u001B[49m\u001B[43m,\u001B[49m\u001B[43m \u001B[49m\u001B[43mreverse\u001B[49m\u001B[38;5;241;43m=\u001B[39;49m\u001B[38;5;28;43;01mTrue\u001B[39;49;00m\u001B[43m)\u001B[49m\n\u001B[0;32m     66\u001B[0m     most_recent_message \u001B[38;5;241m=\u001B[39m sorted_messages[\u001B[38;5;241m0\u001B[39m]\n\u001B[0;32m     67\u001B[0m     obs_time \u001B[38;5;241m=\u001B[39m most_recent_message\u001B[38;5;241m.\u001B[39mobs_time\n",
      "File \u001B[1;32m~\\abides-jpmc-public\\abides-markets\\abides_markets\\agents\\network_agents\\follower_value_agent.py:65\u001B[0m, in \u001B[0;36mFollowerValueAgent.get_most_recent_estimate.<locals>.<lambda>\u001B[1;34m(message)\u001B[0m\n\u001B[0;32m     64\u001B[0m \u001B[38;5;28;01mdef\u001B[39;00m \u001B[38;5;21mget_most_recent_estimate\u001B[39m(\u001B[38;5;28mself\u001B[39m) \u001B[38;5;241m-\u001B[39m\u001B[38;5;241m>\u001B[39m Tuple[NanosecondTime, \u001B[38;5;28mfloat\u001B[39m]:\n\u001B[1;32m---> 65\u001B[0m     sorted_messages \u001B[38;5;241m=\u001B[39m \u001B[38;5;28msorted\u001B[39m(\u001B[38;5;28mself\u001B[39m\u001B[38;5;241m.\u001B[39mlast_news, key\u001B[38;5;241m=\u001B[39m\u001B[38;5;28;01mlambda\u001B[39;00m message: \u001B[43mmessage\u001B[49m\u001B[38;5;241;43m.\u001B[39;49m\u001B[43mobs_time\u001B[49m, reverse\u001B[38;5;241m=\u001B[39m\u001B[38;5;28;01mTrue\u001B[39;00m)\n\u001B[0;32m     66\u001B[0m     most_recent_message \u001B[38;5;241m=\u001B[39m sorted_messages[\u001B[38;5;241m0\u001B[39m]\n\u001B[0;32m     67\u001B[0m     obs_time \u001B[38;5;241m=\u001B[39m most_recent_message\u001B[38;5;241m.\u001B[39mobs_time\n",
      "\u001B[1;31mAttributeError\u001B[0m: 'int' object has no attribute 'obs_time'"
     ]
    }
   ],
   "source": [
    "end_state = abides.run(config=rmsc04_based_config)"
   ],
   "metadata": {
    "collapsed": false,
    "ExecuteTime": {
     "end_time": "2023-06-09T19:37:48.267383900Z",
     "start_time": "2023-06-09T19:33:39.484227500Z"
    }
   }
  },
  {
   "cell_type": "code",
   "execution_count": null,
   "outputs": [],
   "source": [
    " # do sprawdzenia: czy follower i regular follower dobrze działają i czy wysyłają zlecenia?"
   ],
   "metadata": {
    "collapsed": false
   }
  },
  {
   "cell_type": "code",
   "execution_count": null,
   "outputs": [],
   "source": [
    " import numpy as np\n",
    "\n",
    "end_state['agents'][1117].received_messages"
   ],
   "metadata": {
    "collapsed": false
   }
  },
  {
   "cell_type": "code",
   "execution_count": null,
   "outputs": [],
   "source": [
    "end_state['agents'][1117].special_cases"
   ],
   "metadata": {
    "collapsed": false
   }
  },
  {
   "cell_type": "code",
   "execution_count": null,
   "outputs": [],
   "source": [
    "end_state.keys()"
   ],
   "metadata": {
    "collapsed": false
   }
  },
  {
   "cell_type": "code",
   "execution_count": null,
   "outputs": [],
   "source": [
    "1612519200000000000"
   ],
   "metadata": {
    "collapsed": false
   }
  },
  {
   "cell_type": "code",
   "execution_count": null,
   "outputs": [],
   "source": [
    "end_state['agents'][1110]"
   ],
   "metadata": {
    "collapsed": false
   }
  },
  {
   "cell_type": "code",
   "execution_count": null,
   "outputs": [],
   "source": [
    "end_state['agents'][1110].known_bids"
   ],
   "metadata": {
    "collapsed": false
   }
  },
  {
   "cell_type": "code",
   "execution_count": null,
   "outputs": [],
   "source": [
    "end_state['agents'][1117].known_bids"
   ],
   "metadata": {
    "collapsed": false
   }
  }
 ],
 "metadata": {
  "kernelspec": {
   "display_name": "Python 3",
   "language": "python",
   "name": "python3"
  },
  "language_info": {
   "codemirror_mode": {
    "name": "ipython",
    "version": 2
   },
   "file_extension": ".py",
   "mimetype": "text/x-python",
   "name": "python",
   "nbconvert_exporter": "python",
   "pygments_lexer": "ipython2",
   "version": "2.7.6"
  }
 },
 "nbformat": 4,
 "nbformat_minor": 0
}
