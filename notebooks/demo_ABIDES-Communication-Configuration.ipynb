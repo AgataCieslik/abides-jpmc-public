{
 "cells": [
  {
   "cell_type": "code",
   "execution_count": 1,
   "metadata": {
    "collapsed": true
   },
   "outputs": [],
   "source": [
    "from abides_markets.configs import rmsc04\n",
    "from abides_core import abides\n",
    "from abides_markets.utils import generate_latency_model"
   ]
  },
  {
   "cell_type": "code",
   "execution_count": 2,
   "outputs": [],
   "source": [
    "\n",
    "rmsc04_based_config = rmsc04.build_config()\n",
    "insider_id = len(rmsc04_based_config['agents'])\n",
    "follower_0_id = insider_id + 1\n",
    "follower_1_id = follower_0_id + 1"
   ],
   "metadata": {
    "collapsed": false
   }
  },
  {
   "cell_type": "markdown",
   "source": [],
   "metadata": {
    "collapsed": false
   }
  },
  {
   "cell_type": "code",
   "execution_count": 3,
   "outputs": [],
   "source": [
    "from abides_markets.agents import InsiderValueAgent\n",
    "from abides_markets.agents.network_agents import FollowerValueAgent, FollowerNoiseAgent\n",
    "\n",
    "#trzeba dopisać by followerzy też odpowiadali na zapytania\n",
    "insider_0 = InsiderValueAgent(id=insider_id, contacts = [follower_0_id, follower_1_id])\n",
    "follower_0 = FollowerValueAgent(id = follower_0_id,contacts = [insider_id])\n",
    "#follower_1 = FollowerNoiseAgent(id = follower_1_id,contacts = [insider_id])\n",
    "rmsc04_based_config['agents'].append(insider_0)\n",
    "rmsc04_based_config['agents'].append(follower_0)\n",
    "#rmsc04_based_config['agents'].append(follower_1)\n",
    "rmsc04_based_config['agent_latency_model'] = generate_latency_model(len(rmsc04_based_config['agents']))"
   ],
   "metadata": {
    "collapsed": false
   }
  },
  {
   "cell_type": "code",
   "execution_count": 4,
   "outputs": [
    {
     "data": {
      "text/plain": "1117"
     },
     "execution_count": 4,
     "metadata": {},
     "output_type": "execute_result"
    }
   ],
   "source": [
    "rmsc04_based_config['agents'][1117].id"
   ],
   "metadata": {
    "collapsed": false
   }
  },
  {
   "cell_type": "code",
   "execution_count": null,
   "outputs": [
    {
     "name": "stderr",
     "output_type": "stream",
     "text": [
      "[7956] \u001B[1;30mINFO\u001B[0m \u001B[34mabides\u001B[0m Simulation Start Time: 2023-06-09 21:41:38.970756\n",
      "[7956] \u001B[1;30mINFO\u001B[0m \u001B[34mabides_core.kernel\u001B[0m --- Simulation time: 2021-02-05 00:00:00, messages processed: 0, wallclock elapsed: 0.00s ---\n",
      "[7956] \u001B[1;30mINFO\u001B[0m \u001B[34mabides_core.kernel\u001B[0m --- Simulation time: 2021-02-05 09:30:00, messages processed: 100,000, wallclock elapsed: 3.62s ---\n",
      "[7956] \u001B[1;30mINFO\u001B[0m \u001B[34mabides_core.kernel\u001B[0m --- Simulation time: 2021-02-05 09:30:00, messages processed: 200,000, wallclock elapsed: 566.47s ---\n"
     ]
    }
   ],
   "source": [
    "end_state = abides.run(config=rmsc04_based_config)"
   ],
   "metadata": {
    "collapsed": false,
    "is_executing": true
   }
  },
  {
   "cell_type": "code",
   "execution_count": null,
   "outputs": [],
   "source": [
    "end_state['agents'][1117].known_bids"
   ],
   "metadata": {
    "collapsed": false
   }
  }
 ],
 "metadata": {
  "kernelspec": {
   "display_name": "Python 3",
   "language": "python",
   "name": "python3"
  },
  "language_info": {
   "codemirror_mode": {
    "name": "ipython",
    "version": 2
   },
   "file_extension": ".py",
   "mimetype": "text/x-python",
   "name": "python",
   "nbconvert_exporter": "python",
   "pygments_lexer": "ipython2",
   "version": "2.7.6"
  }
 },
 "nbformat": 4,
 "nbformat_minor": 0
}
