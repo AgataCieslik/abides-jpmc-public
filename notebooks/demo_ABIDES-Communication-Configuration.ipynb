{
 "cells": [
  {
   "cell_type": "code",
   "execution_count": 1,
   "metadata": {},
   "outputs": [],
   "source": [
    "from abides_markets.configs import rmsc04\n",
    "from abides_core import abides\n",
    "from abides_markets.utils import generate_latency_model\n",
    "from abides_core.utils import get_wake_time, str_to_ns"
   ]
  },
  {
   "cell_type": "code",
   "execution_count": 2,
   "metadata": {},
   "outputs": [],
   "source": [
    "\n",
    "rmsc04_based_config = rmsc04.build_config()\n",
    "insider_id = len(rmsc04_based_config['agents'])\n",
    "follower_0_id = insider_id + 1\n",
    "follower_1_id = follower_0_id + 1\n",
    "follower_2_id = follower_1_id +1 "
   ]
  },
  {
   "cell_type": "code",
   "execution_count": 3,
   "metadata": {},
   "outputs": [],
   "source": [
    "from abides_markets.agents import InsiderValueAgent\n",
    "from abides_markets.agents.network_agents import FollowerValueAgent, FollowerNoiseAgent\n",
    "\n",
    "#trzeba dopisać by followerzy też odpowiadali na zapytania\n",
    "insider_0 = InsiderValueAgent(id=insider_id,lambda_a=5.7e-12,horizon=str_to_ns(\"3h\"), contacts = [follower_0_id, follower_1_id, follower_2_id])\n",
    "follower_0 = FollowerValueAgent(id = follower_0_id,lambda_a=5.7e-12,contacts = [insider_id, follower_1_id, follower_2_id])\n",
    "market_open = rmsc04_based_config['start_time'] + str_to_ns(\"11:30:00\")\n",
    "market_close = rmsc04_based_config['stop_time'] - str_to_ns(\"1s\")\n",
    "follower_1 = FollowerNoiseAgent(id = follower_1_id,contacts = [insider_id, follower_0_id, follower_2_id],wakeup_time = market_open)\n",
    "follower_2 = FollowerNoiseAgent(id = follower_2_id,contacts = [insider_id, follower_0_id, follower_1_id],wakeup_time = market_open)\n",
    "rmsc04_based_config['agents'].append(insider_0)\n",
    "rmsc04_based_config['agents'].append(follower_0)\n",
    "rmsc04_based_config['agents'].append(follower_1)\n",
    "rmsc04_based_config['agents'].append(follower_2)\n",
    "rmsc04_based_config['agent_latency_model'] = generate_latency_model(len(rmsc04_based_config['agents']))"
   ]
  },
  {
   "cell_type": "code",
   "execution_count": 4,
   "metadata": {},
   "outputs": [
    {
     "data": {
      "text/plain": [
       "1117"
      ]
     },
     "execution_count": 4,
     "metadata": {},
     "output_type": "execute_result"
    }
   ],
   "source": [
    "rmsc04_based_config['agents'][1117].id"
   ]
  },
  {
   "cell_type": "code",
   "execution_count": 5,
   "metadata": {},
   "outputs": [
    {
     "data": {
      "text/plain": [
       "1120"
      ]
     },
     "execution_count": 5,
     "metadata": {},
     "output_type": "execute_result"
    }
   ],
   "source": [
    "follower_2_id"
   ]
  },
  {
   "cell_type": "code",
   "execution_count": null,
   "metadata": {
    "is_executing": true
   },
   "outputs": [
    {
     "name": "stderr",
     "output_type": "stream",
     "text": [
      "[23956] \u001b[1;30mINFO\u001b[0m \u001b[34mabides\u001b[0m Simulation Start Time: 2023-06-10 14:53:29.873805\n",
      "[23956] \u001b[1;30mINFO\u001b[0m \u001b[34mabides_core.kernel\u001b[0m --- Simulation time: 2021-02-05 00:00:00, messages processed: 0, wallclock elapsed: 0.00s ---\n",
      "[23956] \u001b[1;30mINFO\u001b[0m \u001b[34mabides_core.kernel\u001b[0m --- Simulation time: 2021-02-05 10:22:38, messages processed: 100,000, wallclock elapsed: 7.99s ---\n",
      "[23956] \u001b[1;30mINFO\u001b[0m \u001b[34mabides_core.kernel\u001b[0m --- Simulation time: 2021-02-05 11:38:16, messages processed: 200,000, wallclock elapsed: 17.55s ---\n",
      "[23956] \u001b[1;30mINFO\u001b[0m \u001b[34mabides_core.kernel\u001b[0m --- Simulation time: 2021-02-05 12:39:19, messages processed: 300,000, wallclock elapsed: 23.53s ---\n"
     ]
    }
   ],
   "source": [
    "end_state = abides.run(config=rmsc04_based_config)"
   ]
  },
  {
   "cell_type": "code",
   "execution_count": null,
   "metadata": {
    "is_executing": true
   },
   "outputs": [],
   "source": [
    "end_state['agents'][1120].wakeups"
   ]
  },
  {
   "cell_type": "code",
   "execution_count": null,
   "metadata": {},
   "outputs": [],
   "source": [
    "end_state['agents'][1120].messages"
   ]
  },
  {
   "cell_type": "code",
   "execution_count": null,
   "metadata": {},
   "outputs": [],
   "source": [
    "end_state['agents'][insider_id].signals_sent"
   ]
  },
  {
   "cell_type": "code",
   "execution_count": null,
   "metadata": {},
   "outputs": [],
   "source": [
    "end_state['agents'][insider_id].final_value_sent"
   ]
  },
  {
   "cell_type": "code",
   "execution_count": null,
   "metadata": {
    "is_executing": true
   },
   "outputs": [],
   "source": [
    "end_state['agents'][1100].r_t\n",
    "# czemu ta symulacja tak długo trwa? czy mogę jakoś zoptymalizować insidera i followera? - chyba kwestia częstotliwości zleceń\n",
    "# porównać parametry value agenta z insiderem, np. częstość\n",
    "# zastanowić się, czy faktycznie value trader powinien odpytywać \n",
    "# zastanowić się nad wyrocznią - jak te dane powinny wyglądać, by wyszły sensowne wyniki\n",
    "# sprawdzić czemu FollowerNoiseAgent nie działa (!!!)"
   ]
  },
  {
   "cell_type": "code",
   "execution_count": null,
   "metadata": {},
   "outputs": [],
   "source": [
    "end_state['agents'][1100].r_bar"
   ]
  },
  {
   "cell_type": "code",
   "execution_count": null,
   "metadata": {},
   "outputs": [],
   "source": []
  }
 ],
 "metadata": {
  "kernelspec": {
   "display_name": "Python 3 (ipykernel)",
   "language": "python",
   "name": "python3"
  },
  "language_info": {
   "codemirror_mode": {
    "name": "ipython",
    "version": 3
   },
   "file_extension": ".py",
   "mimetype": "text/x-python",
   "name": "python",
   "nbconvert_exporter": "python",
   "pygments_lexer": "ipython3",
   "version": "3.10.9"
  }
 },
 "nbformat": 4,
 "nbformat_minor": 1
}
